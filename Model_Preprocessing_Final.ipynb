{
  "nbformat": 4,
  "nbformat_minor": 0,
  "metadata": {
    "colab": {
      "provenance": []
    },
    "kernelspec": {
      "name": "python3",
      "display_name": "Python 3"
    },
    "language_info": {
      "name": "python"
    },
    "accelerator": "GPU",
    "gpuClass": "standard"
  },
  "cells": [
    {
      "cell_type": "markdown",
      "source": [
        "# Image Data Preprocessing - GTSRB Dataset"
      ],
      "metadata": {
        "id": "s2xfC5mf_nD9"
      }
    },
    {
      "cell_type": "markdown",
      "source": [
        "### Set up Kaggle API\n",
        "Must have kaggle.json file ready to upload"
      ],
      "metadata": {
        "id": "sRyYg-KWTH5v"
      }
    },
    {
      "cell_type": "code",
      "source": [
        "!pip install -q kaggle"
      ],
      "metadata": {
        "id": "6m_8g1siiqhK"
      },
      "execution_count": 1,
      "outputs": []
    },
    {
      "cell_type": "code",
      "source": [
        "from google.colab import files\n",
        "files.upload()"
      ],
      "metadata": {
        "id": "qZy_54RRi2rv",
        "outputId": "bb05cb04-d48b-429f-eec9-7f8fb57bcd77",
        "colab": {
          "base_uri": "https://localhost:8080/",
          "height": 88
        }
      },
      "execution_count": 2,
      "outputs": [
        {
          "output_type": "display_data",
          "data": {
            "text/plain": [
              "<IPython.core.display.HTML object>"
            ],
            "text/html": [
              "\n",
              "     <input type=\"file\" id=\"files-4fb2de4a-824e-4920-b083-22071516cd5c\" name=\"files[]\" multiple disabled\n",
              "        style=\"border:none\" />\n",
              "     <output id=\"result-4fb2de4a-824e-4920-b083-22071516cd5c\">\n",
              "      Upload widget is only available when the cell has been executed in the\n",
              "      current browser session. Please rerun this cell to enable.\n",
              "      </output>\n",
              "      <script>// Copyright 2017 Google LLC\n",
              "//\n",
              "// Licensed under the Apache License, Version 2.0 (the \"License\");\n",
              "// you may not use this file except in compliance with the License.\n",
              "// You may obtain a copy of the License at\n",
              "//\n",
              "//      http://www.apache.org/licenses/LICENSE-2.0\n",
              "//\n",
              "// Unless required by applicable law or agreed to in writing, software\n",
              "// distributed under the License is distributed on an \"AS IS\" BASIS,\n",
              "// WITHOUT WARRANTIES OR CONDITIONS OF ANY KIND, either express or implied.\n",
              "// See the License for the specific language governing permissions and\n",
              "// limitations under the License.\n",
              "\n",
              "/**\n",
              " * @fileoverview Helpers for google.colab Python module.\n",
              " */\n",
              "(function(scope) {\n",
              "function span(text, styleAttributes = {}) {\n",
              "  const element = document.createElement('span');\n",
              "  element.textContent = text;\n",
              "  for (const key of Object.keys(styleAttributes)) {\n",
              "    element.style[key] = styleAttributes[key];\n",
              "  }\n",
              "  return element;\n",
              "}\n",
              "\n",
              "// Max number of bytes which will be uploaded at a time.\n",
              "const MAX_PAYLOAD_SIZE = 100 * 1024;\n",
              "\n",
              "function _uploadFiles(inputId, outputId) {\n",
              "  const steps = uploadFilesStep(inputId, outputId);\n",
              "  const outputElement = document.getElementById(outputId);\n",
              "  // Cache steps on the outputElement to make it available for the next call\n",
              "  // to uploadFilesContinue from Python.\n",
              "  outputElement.steps = steps;\n",
              "\n",
              "  return _uploadFilesContinue(outputId);\n",
              "}\n",
              "\n",
              "// This is roughly an async generator (not supported in the browser yet),\n",
              "// where there are multiple asynchronous steps and the Python side is going\n",
              "// to poll for completion of each step.\n",
              "// This uses a Promise to block the python side on completion of each step,\n",
              "// then passes the result of the previous step as the input to the next step.\n",
              "function _uploadFilesContinue(outputId) {\n",
              "  const outputElement = document.getElementById(outputId);\n",
              "  const steps = outputElement.steps;\n",
              "\n",
              "  const next = steps.next(outputElement.lastPromiseValue);\n",
              "  return Promise.resolve(next.value.promise).then((value) => {\n",
              "    // Cache the last promise value to make it available to the next\n",
              "    // step of the generator.\n",
              "    outputElement.lastPromiseValue = value;\n",
              "    return next.value.response;\n",
              "  });\n",
              "}\n",
              "\n",
              "/**\n",
              " * Generator function which is called between each async step of the upload\n",
              " * process.\n",
              " * @param {string} inputId Element ID of the input file picker element.\n",
              " * @param {string} outputId Element ID of the output display.\n",
              " * @return {!Iterable<!Object>} Iterable of next steps.\n",
              " */\n",
              "function* uploadFilesStep(inputId, outputId) {\n",
              "  const inputElement = document.getElementById(inputId);\n",
              "  inputElement.disabled = false;\n",
              "\n",
              "  const outputElement = document.getElementById(outputId);\n",
              "  outputElement.innerHTML = '';\n",
              "\n",
              "  const pickedPromise = new Promise((resolve) => {\n",
              "    inputElement.addEventListener('change', (e) => {\n",
              "      resolve(e.target.files);\n",
              "    });\n",
              "  });\n",
              "\n",
              "  const cancel = document.createElement('button');\n",
              "  inputElement.parentElement.appendChild(cancel);\n",
              "  cancel.textContent = 'Cancel upload';\n",
              "  const cancelPromise = new Promise((resolve) => {\n",
              "    cancel.onclick = () => {\n",
              "      resolve(null);\n",
              "    };\n",
              "  });\n",
              "\n",
              "  // Wait for the user to pick the files.\n",
              "  const files = yield {\n",
              "    promise: Promise.race([pickedPromise, cancelPromise]),\n",
              "    response: {\n",
              "      action: 'starting',\n",
              "    }\n",
              "  };\n",
              "\n",
              "  cancel.remove();\n",
              "\n",
              "  // Disable the input element since further picks are not allowed.\n",
              "  inputElement.disabled = true;\n",
              "\n",
              "  if (!files) {\n",
              "    return {\n",
              "      response: {\n",
              "        action: 'complete',\n",
              "      }\n",
              "    };\n",
              "  }\n",
              "\n",
              "  for (const file of files) {\n",
              "    const li = document.createElement('li');\n",
              "    li.append(span(file.name, {fontWeight: 'bold'}));\n",
              "    li.append(span(\n",
              "        `(${file.type || 'n/a'}) - ${file.size} bytes, ` +\n",
              "        `last modified: ${\n",
              "            file.lastModifiedDate ? file.lastModifiedDate.toLocaleDateString() :\n",
              "                                    'n/a'} - `));\n",
              "    const percent = span('0% done');\n",
              "    li.appendChild(percent);\n",
              "\n",
              "    outputElement.appendChild(li);\n",
              "\n",
              "    const fileDataPromise = new Promise((resolve) => {\n",
              "      const reader = new FileReader();\n",
              "      reader.onload = (e) => {\n",
              "        resolve(e.target.result);\n",
              "      };\n",
              "      reader.readAsArrayBuffer(file);\n",
              "    });\n",
              "    // Wait for the data to be ready.\n",
              "    let fileData = yield {\n",
              "      promise: fileDataPromise,\n",
              "      response: {\n",
              "        action: 'continue',\n",
              "      }\n",
              "    };\n",
              "\n",
              "    // Use a chunked sending to avoid message size limits. See b/62115660.\n",
              "    let position = 0;\n",
              "    do {\n",
              "      const length = Math.min(fileData.byteLength - position, MAX_PAYLOAD_SIZE);\n",
              "      const chunk = new Uint8Array(fileData, position, length);\n",
              "      position += length;\n",
              "\n",
              "      const base64 = btoa(String.fromCharCode.apply(null, chunk));\n",
              "      yield {\n",
              "        response: {\n",
              "          action: 'append',\n",
              "          file: file.name,\n",
              "          data: base64,\n",
              "        },\n",
              "      };\n",
              "\n",
              "      let percentDone = fileData.byteLength === 0 ?\n",
              "          100 :\n",
              "          Math.round((position / fileData.byteLength) * 100);\n",
              "      percent.textContent = `${percentDone}% done`;\n",
              "\n",
              "    } while (position < fileData.byteLength);\n",
              "  }\n",
              "\n",
              "  // All done.\n",
              "  yield {\n",
              "    response: {\n",
              "      action: 'complete',\n",
              "    }\n",
              "  };\n",
              "}\n",
              "\n",
              "scope.google = scope.google || {};\n",
              "scope.google.colab = scope.google.colab || {};\n",
              "scope.google.colab._files = {\n",
              "  _uploadFiles,\n",
              "  _uploadFilesContinue,\n",
              "};\n",
              "})(self);\n",
              "</script> "
            ]
          },
          "metadata": {}
        },
        {
          "output_type": "stream",
          "name": "stdout",
          "text": [
            "Saving kaggle.json to kaggle.json\n"
          ]
        },
        {
          "output_type": "execute_result",
          "data": {
            "text/plain": [
              "{'kaggle.json': b'{\"username\":\"joeprickett\",\"key\":\"1568083b2d1930885bee88cd8ebd901e\"}'}"
            ]
          },
          "metadata": {},
          "execution_count": 2
        }
      ]
    },
    {
      "cell_type": "code",
      "source": [
        "! mkdir ~/.kaggle"
      ],
      "metadata": {
        "id": "kKPmWHnnjEkK"
      },
      "execution_count": 3,
      "outputs": []
    },
    {
      "cell_type": "code",
      "source": [
        "! cp kaggle.json ~/.kaggle/"
      ],
      "metadata": {
        "id": "L20RIpYujInd"
      },
      "execution_count": 4,
      "outputs": []
    },
    {
      "cell_type": "code",
      "source": [
        "! chmod 600  ~/.kaggle/kaggle.json"
      ],
      "metadata": {
        "id": "Ia6TVFpejQxD"
      },
      "execution_count": 5,
      "outputs": []
    },
    {
      "cell_type": "code",
      "source": [
        "!kaggle datasets download meowmeowmeowmeowmeow/gtsrb-german-traffic-sign"
      ],
      "metadata": {
        "id": "FlkUa4J4jTu8",
        "outputId": "e0b6f19c-356d-4f55-c629-b3c86b8c4cae",
        "colab": {
          "base_uri": "https://localhost:8080/"
        }
      },
      "execution_count": 6,
      "outputs": [
        {
          "output_type": "stream",
          "name": "stdout",
          "text": [
            "Downloading gtsrb-german-traffic-sign.zip to /content\n",
            " 98% 598M/612M [00:05<00:00, 98.0MB/s]\n",
            "100% 612M/612M [00:06<00:00, 106MB/s] \n"
          ]
        }
      ]
    },
    {
      "cell_type": "markdown",
      "source": [
        "### Data Preparation\n"
      ],
      "metadata": {
        "id": "BKg95IHnTORo"
      }
    },
    {
      "cell_type": "code",
      "source": [
        "import zipfile\n",
        "\n",
        "filename = '/content/gtsrb-german-traffic-sign.zip'\n",
        "\n",
        "with zipfile.ZipFile(filename, 'r') as zip_ref:\n",
        "  zip_ref.extractall('.')"
      ],
      "metadata": {
        "id": "QXHQn0rglXrg"
      },
      "execution_count": 7,
      "outputs": []
    },
    {
      "cell_type": "code",
      "execution_count": 8,
      "metadata": {
        "id": "JgXk2l0Nq9j8"
      },
      "outputs": [],
      "source": [
        "import numpy as np\n",
        "import os\n",
        "from PIL import Image\n",
        "import tensorflow as tf\n",
        "import pandas as pd\n",
        "from sklearn.model_selection import train_test_split\n",
        "import matplotlib.pyplot as plt"
      ]
    },
    {
      "cell_type": "code",
      "source": [
        "img_height = 32\n",
        "img_width = 32\n",
        "batch_size = 32"
      ],
      "metadata": {
        "id": "HiNvNh9eJVWq"
      },
      "execution_count": 9,
      "outputs": []
    },
    {
      "cell_type": "code",
      "source": [
        "data = []\n",
        "labels = []\n",
        "classes = 43\n",
        "\n",
        "with tf.device('/GPU:0'):\n",
        "  for i in range(classes):\n",
        "      path = os.path.join('/content/Train',str(i))\n",
        "      images = os.listdir(path)\n",
        "\n",
        "      for image in images:\n",
        "        image = Image.open(os.path.join(path, image))\n",
        "        image = image.resize((img_height,img_width))\n",
        "        image = np.array(image)\n",
        "        data.append(image)\n",
        "        labels.append(i)\n",
        "\n",
        "data = np.array(data)\n",
        "labels = np.array(labels)"
      ],
      "metadata": {
        "id": "aG8sOsXNJduV"
      },
      "execution_count": 10,
      "outputs": []
    },
    {
      "cell_type": "code",
      "source": [
        "X_train, X_val, y_train, y_val = train_test_split(data, labels, test_size=0.2, random_state=42)"
      ],
      "metadata": {
        "id": "a64qsuBm30tx"
      },
      "execution_count": 11,
      "outputs": []
    },
    {
      "cell_type": "code",
      "source": [
        "X_train.shape, y_train.shape"
      ],
      "metadata": {
        "id": "unMF4o8nnk2B",
        "outputId": "83a12962-d595-4b73-bdb5-5c901b47cd9f",
        "colab": {
          "base_uri": "https://localhost:8080/"
        }
      },
      "execution_count": 12,
      "outputs": [
        {
          "output_type": "execute_result",
          "data": {
            "text/plain": [
              "((31367, 32, 32, 3), (31367,))"
            ]
          },
          "metadata": {},
          "execution_count": 12
        }
      ]
    },
    {
      "cell_type": "code",
      "source": [
        "X_val.shape, y_val.shape"
      ],
      "metadata": {
        "id": "6aCTlqYAnv3n",
        "outputId": "055b0385-e779-44a3-cc1c-e6ceb18d88d0",
        "colab": {
          "base_uri": "https://localhost:8080/"
        }
      },
      "execution_count": 13,
      "outputs": [
        {
          "output_type": "execute_result",
          "data": {
            "text/plain": [
              "((7842, 32, 32, 3), (7842,))"
            ]
          },
          "metadata": {},
          "execution_count": 13
        }
      ]
    },
    {
      "cell_type": "code",
      "source": [
        "X_train = X_train/255\n",
        "X_val = X_val/255"
      ],
      "metadata": {
        "id": "Pu-uVckDPyVa"
      },
      "execution_count": 14,
      "outputs": []
    },
    {
      "cell_type": "markdown",
      "source": [
        "### Original Model"
      ],
      "metadata": {
        "id": "dOeCdyxcTegg"
      }
    },
    {
      "cell_type": "code",
      "source": [
        "model = tf.keras.Sequential([\n",
        "    tf.keras.layers.InputLayer(input_shape=(img_height, img_width, 3)),    \n",
        "    tf.keras.layers.Conv2D(filters=32, kernel_size=(3,3), activation='relu'), \n",
        "    tf.keras.layers.Conv2D(filters=64, kernel_size=(3,3), activation='relu'),\n",
        "    tf.keras.layers.MaxPool2D(pool_size=(2, 2)),\n",
        "    \n",
        "    tf.keras.layers.Conv2D(filters=128, kernel_size=(3,3), activation='relu'),\n",
        "    tf.keras.layers.Conv2D(filters=256, kernel_size=(3,3), activation='relu'),\n",
        "    tf.keras.layers.MaxPool2D(pool_size=(2, 2)),\n",
        "\n",
        "    tf.keras.layers.Flatten(),\n",
        "    tf.keras.layers.Dense(512, activation='relu'),\n",
        "    tf.keras.layers.Dropout(rate=0.5),\n",
        "\n",
        "    tf.keras.layers.Dense(256, activation='relu'),\n",
        "    tf.keras.layers.Dropout(rate=0.5),\n",
        "    \n",
        "    tf.keras.layers.Dense(43, activation='softmax')\n",
        "])"
      ],
      "metadata": {
        "id": "NyYQZq35Y3Q7"
      },
      "execution_count": 15,
      "outputs": []
    },
    {
      "cell_type": "code",
      "source": [
        "model.summary()"
      ],
      "metadata": {
        "id": "pma2yA7UgpqR",
        "outputId": "20b7056d-fca3-4bc0-a8a6-e53a30c3814d",
        "colab": {
          "base_uri": "https://localhost:8080/"
        }
      },
      "execution_count": 16,
      "outputs": [
        {
          "output_type": "stream",
          "name": "stdout",
          "text": [
            "Model: \"sequential\"\n",
            "_________________________________________________________________\n",
            " Layer (type)                Output Shape              Param #   \n",
            "=================================================================\n",
            " conv2d (Conv2D)             (None, 30, 30, 32)        896       \n",
            "                                                                 \n",
            " conv2d_1 (Conv2D)           (None, 28, 28, 64)        18496     \n",
            "                                                                 \n",
            " max_pooling2d (MaxPooling2D  (None, 14, 14, 64)       0         \n",
            " )                                                               \n",
            "                                                                 \n",
            " conv2d_2 (Conv2D)           (None, 12, 12, 128)       73856     \n",
            "                                                                 \n",
            " conv2d_3 (Conv2D)           (None, 10, 10, 256)       295168    \n",
            "                                                                 \n",
            " max_pooling2d_1 (MaxPooling  (None, 5, 5, 256)        0         \n",
            " 2D)                                                             \n",
            "                                                                 \n",
            " flatten (Flatten)           (None, 6400)              0         \n",
            "                                                                 \n",
            " dense (Dense)               (None, 512)               3277312   \n",
            "                                                                 \n",
            " dropout (Dropout)           (None, 512)               0         \n",
            "                                                                 \n",
            " dense_1 (Dense)             (None, 256)               131328    \n",
            "                                                                 \n",
            " dropout_1 (Dropout)         (None, 256)               0         \n",
            "                                                                 \n",
            " dense_2 (Dense)             (None, 43)                11051     \n",
            "                                                                 \n",
            "=================================================================\n",
            "Total params: 3,808,107\n",
            "Trainable params: 3,808,107\n",
            "Non-trainable params: 0\n",
            "_________________________________________________________________\n"
          ]
        }
      ]
    },
    {
      "cell_type": "code",
      "source": [
        "model.compile(\n",
        "  optimizer='adam',\n",
        "  loss='sparse_categorical_crossentropy',\n",
        "  metrics=['accuracy'])"
      ],
      "metadata": {
        "id": "nYuJN0s6Z_6I"
      },
      "execution_count": 17,
      "outputs": []
    },
    {
      "cell_type": "code",
      "source": [
        "checkpoint_callback_1 = tf.keras.callbacks.ModelCheckpoint(\n",
        "    filepath='best_model.h5',\n",
        "    monitor='val_loss',\n",
        "    save_best_only=True\n",
        ")"
      ],
      "metadata": {
        "id": "vu9jlRw2kU38"
      },
      "execution_count": 18,
      "outputs": []
    },
    {
      "cell_type": "code",
      "source": [
        "with tf.device('/GPU:0'):\n",
        "  history = model.fit(X_train, y_train, validation_data=(X_val, y_val), epochs=30, callbacks=[checkpoint_callback_1])"
      ],
      "metadata": {
        "colab": {
          "base_uri": "https://localhost:8080/"
        },
        "id": "v02ahE2JcC77",
        "outputId": "08b1c99d-bdc4-4ad4-d4d3-daf475745699"
      },
      "execution_count": 19,
      "outputs": [
        {
          "output_type": "stream",
          "name": "stdout",
          "text": [
            "Epoch 1/30\n",
            "981/981 [==============================] - 21s 8ms/step - loss: 1.1579 - accuracy: 0.6669 - val_loss: 0.0854 - val_accuracy: 0.9788\n",
            "Epoch 2/30\n",
            "981/981 [==============================] - 7s 7ms/step - loss: 0.1291 - accuracy: 0.9622 - val_loss: 0.0419 - val_accuracy: 0.9890\n",
            "Epoch 3/30\n",
            "981/981 [==============================] - 8s 8ms/step - loss: 0.0671 - accuracy: 0.9814 - val_loss: 0.0235 - val_accuracy: 0.9932\n",
            "Epoch 4/30\n",
            "981/981 [==============================] - 8s 8ms/step - loss: 0.0542 - accuracy: 0.9839 - val_loss: 0.0337 - val_accuracy: 0.9907\n",
            "Epoch 5/30\n",
            "981/981 [==============================] - 8s 8ms/step - loss: 0.0426 - accuracy: 0.9887 - val_loss: 0.0478 - val_accuracy: 0.9880\n",
            "Epoch 6/30\n",
            "981/981 [==============================] - 7s 7ms/step - loss: 0.0397 - accuracy: 0.9894 - val_loss: 0.0258 - val_accuracy: 0.9936\n",
            "Epoch 7/30\n",
            "981/981 [==============================] - 8s 8ms/step - loss: 0.0341 - accuracy: 0.9914 - val_loss: 0.0144 - val_accuracy: 0.9964\n",
            "Epoch 8/30\n",
            "981/981 [==============================] - 7s 7ms/step - loss: 0.0312 - accuracy: 0.9921 - val_loss: 0.0145 - val_accuracy: 0.9973\n",
            "Epoch 9/30\n",
            "981/981 [==============================] - 7s 7ms/step - loss: 0.0326 - accuracy: 0.9924 - val_loss: 0.0188 - val_accuracy: 0.9962\n",
            "Epoch 10/30\n",
            "981/981 [==============================] - 7s 7ms/step - loss: 0.0328 - accuracy: 0.9918 - val_loss: 0.0211 - val_accuracy: 0.9955\n",
            "Epoch 11/30\n",
            "981/981 [==============================] - 8s 8ms/step - loss: 0.0267 - accuracy: 0.9934 - val_loss: 0.0245 - val_accuracy: 0.9955\n",
            "Epoch 12/30\n",
            "981/981 [==============================] - 7s 7ms/step - loss: 0.0270 - accuracy: 0.9940 - val_loss: 0.0191 - val_accuracy: 0.9952\n",
            "Epoch 13/30\n",
            "981/981 [==============================] - 8s 8ms/step - loss: 0.0263 - accuracy: 0.9934 - val_loss: 0.0108 - val_accuracy: 0.9974\n",
            "Epoch 14/30\n",
            "981/981 [==============================] - 8s 8ms/step - loss: 0.0259 - accuracy: 0.9941 - val_loss: 0.0600 - val_accuracy: 0.9906\n",
            "Epoch 15/30\n",
            "981/981 [==============================] - 7s 7ms/step - loss: 0.0189 - accuracy: 0.9961 - val_loss: 0.0305 - val_accuracy: 0.9932\n",
            "Epoch 16/30\n",
            "981/981 [==============================] - 7s 7ms/step - loss: 0.0326 - accuracy: 0.9928 - val_loss: 0.0241 - val_accuracy: 0.9958\n",
            "Epoch 17/30\n",
            "981/981 [==============================] - 7s 7ms/step - loss: 0.0284 - accuracy: 0.9945 - val_loss: 0.0166 - val_accuracy: 0.9967\n",
            "Epoch 18/30\n",
            "981/981 [==============================] - 7s 7ms/step - loss: 0.0218 - accuracy: 0.9950 - val_loss: 0.0190 - val_accuracy: 0.9968\n",
            "Epoch 19/30\n",
            "981/981 [==============================] - 7s 7ms/step - loss: 0.0178 - accuracy: 0.9958 - val_loss: 0.0237 - val_accuracy: 0.9955\n",
            "Epoch 20/30\n",
            "981/981 [==============================] - 8s 8ms/step - loss: 0.0346 - accuracy: 0.9933 - val_loss: 0.0226 - val_accuracy: 0.9969\n",
            "Epoch 21/30\n",
            "981/981 [==============================] - 8s 8ms/step - loss: 0.0168 - accuracy: 0.9965 - val_loss: 0.0128 - val_accuracy: 0.9980\n",
            "Epoch 22/30\n",
            "981/981 [==============================] - 8s 8ms/step - loss: 0.0175 - accuracy: 0.9962 - val_loss: 0.0180 - val_accuracy: 0.9969\n",
            "Epoch 23/30\n",
            "981/981 [==============================] - 7s 8ms/step - loss: 0.0286 - accuracy: 0.9945 - val_loss: 0.0235 - val_accuracy: 0.9963\n",
            "Epoch 24/30\n",
            "981/981 [==============================] - 7s 7ms/step - loss: 0.0329 - accuracy: 0.9942 - val_loss: 0.0251 - val_accuracy: 0.9964\n",
            "Epoch 25/30\n",
            "981/981 [==============================] - 8s 8ms/step - loss: 0.0283 - accuracy: 0.9955 - val_loss: 0.0200 - val_accuracy: 0.9973\n",
            "Epoch 26/30\n",
            "981/981 [==============================] - 8s 8ms/step - loss: 0.0192 - accuracy: 0.9962 - val_loss: 0.0222 - val_accuracy: 0.9964\n",
            "Epoch 27/30\n",
            "981/981 [==============================] - 8s 8ms/step - loss: 0.0220 - accuracy: 0.9959 - val_loss: 0.0281 - val_accuracy: 0.9935\n",
            "Epoch 28/30\n",
            "981/981 [==============================] - 7s 8ms/step - loss: 0.0282 - accuracy: 0.9945 - val_loss: 0.0323 - val_accuracy: 0.9952\n",
            "Epoch 29/30\n",
            "981/981 [==============================] - 8s 8ms/step - loss: 0.0205 - accuracy: 0.9963 - val_loss: 0.0199 - val_accuracy: 0.9972\n",
            "Epoch 30/30\n",
            "981/981 [==============================] - 7s 7ms/step - loss: 0.0133 - accuracy: 0.9977 - val_loss: 0.0212 - val_accuracy: 0.9972\n"
          ]
        }
      ]
    },
    {
      "cell_type": "code",
      "source": [
        "# Plot training & validation accuracy values\n",
        "plt.plot(history.history['accuracy'])\n",
        "plt.plot(history.history['val_accuracy'])\n",
        "plt.title('Model accuracy')\n",
        "plt.ylabel('Accuracy')\n",
        "plt.xlabel('Epoch')\n",
        "plt.legend(['Train', 'Val'], loc='upper left')\n",
        "plt.show()\n",
        "\n",
        "# Plot training & validation loss values\n",
        "plt.plot(history.history['loss'])\n",
        "plt.plot(history.history['val_loss'])\n",
        "plt.title('Model loss')\n",
        "plt.ylabel('Loss')\n",
        "plt.xlabel('Epoch')\n",
        "plt.legend(['Train', 'Val'], loc='upper left')\n",
        "plt.show()"
      ],
      "metadata": {
        "id": "RdDJWvs-x5an",
        "colab": {
          "base_uri": "https://localhost:8080/",
          "height": 927
        },
        "outputId": "c24e8e16-e050-41c0-981b-35c50b271289"
      },
      "execution_count": 20,
      "outputs": [
        {
          "output_type": "display_data",
          "data": {
            "text/plain": [
              "<Figure size 640x480 with 1 Axes>"
            ],
            "image/png": "[encoded data removed]"
          },
          "metadata": {}
        },
        {
          "output_type": "display_data",
          "data": {
            "text/plain": [
              "<Figure size 640x480 with 1 Axes>"
            ],
            "image/png": "[encoded data removed]"
          },
          "metadata": {}
        }
      ]
    },
    {
      "cell_type": "code",
      "source": [
        "test = pd.read_csv('/content/Test.csv')\n",
        "\n",
        "y_test = test[\"ClassId\"].values\n",
        "imgs = test[\"Path\"].values\n",
        "\n",
        "data=[]\n",
        "\n",
        "with tf.device('/GPU:0'):\n",
        "    for img in imgs:\n",
        "        image = Image.open('/content/'+img)\n",
        "        image = image.resize([img_height, img_width])\n",
        "        data.append(np.array(image))\n",
        "\n",
        "X_test=np.array(data)"
      ],
      "metadata": {
        "id": "MlzDR0OI8JgE"
      },
      "execution_count": 21,
      "outputs": []
    },
    {
      "cell_type": "code",
      "source": [
        "model = tf.keras.models.load_model('best_model.h5')"
      ],
      "metadata": {
        "id": "GHZIKNeHgPQg"
      },
      "execution_count": 22,
      "outputs": []
    },
    {
      "cell_type": "code",
      "source": [
        "X_test = X_test/255\n",
        "model_predict = model.predict(X_test)\n",
        "\n",
        "correct_predict = []\n",
        "incorrect_predict = []\n",
        "\n",
        "for i in range(len(model_predict)):\n",
        "  label = np.argmax(model_predict[i])\n",
        "  if label == y_test[i]:\n",
        "    correct_predict.append(i)\n",
        "  else:\n",
        "    incorrect_predict.append(i)\n",
        "\n",
        "Accuracy = len(correct_predict) / (len(correct_predict) + len(incorrect_predict))\n",
        "print('Accuracy: {}'.format(Accuracy))"
      ],
      "metadata": {
        "id": "yW_Zgr3qr0-D",
        "colab": {
          "base_uri": "https://localhost:8080/"
        },
        "outputId": "95385699-d6c5-4876-decf-dc8e3800439f"
      },
      "execution_count": 23,
      "outputs": [
        {
          "output_type": "stream",
          "name": "stdout",
          "text": [
            "395/395 [==============================] - 1s 3ms/step\n",
            "Accuracy: 0.9745051464766429\n"
          ]
        }
      ]
    },
    {
      "cell_type": "markdown",
      "source": [
        "### Model with only data augmentation"
      ],
      "metadata": {
        "id": "K3cxr8dbdbfX"
      }
    },
    {
      "cell_type": "code",
      "source": [
        "data_augmentation = tf.keras.Sequential(\n",
        "    [\n",
        "        tf.keras.layers.RandomRotation(\n",
        "                        factor=0.1,\n",
        "                        fill_mode=\"constant\"), # Don't want to do too extreme rotation and want to avoid flipping\n",
        "        tf.keras.layers.RandomZoom(0.15),\n",
        "        tf.keras.layers.RandomHeight(0.1),\n",
        "        tf.keras.layers.RandomWidth(0.1),\n",
        "        tf.keras.layers.Resizing(img_height, img_width),\n",
        "    ]\n",
        ")"
      ],
      "metadata": {
        "id": "MhMaPSSd-8Y-"
      },
      "execution_count": 24,
      "outputs": []
    },
    {
      "cell_type": "code",
      "source": [
        "model_2 = tf.keras.Sequential([\n",
        "    tf.keras.layers.InputLayer(input_shape=(img_height, img_width, 3)),\n",
        "    data_augmentation,\n",
        "    \n",
        "    tf.keras.layers.Conv2D(filters=32, kernel_size=(3,3), activation='relu'), \n",
        "    tf.keras.layers.Conv2D(filters=64, kernel_size=(3,3), activation='relu'),\n",
        "    tf.keras.layers.MaxPool2D(pool_size=(2, 2)),\n",
        "    \n",
        "    tf.keras.layers.Conv2D(filters=128, kernel_size=(3,3), activation='relu'),\n",
        "    tf.keras.layers.Conv2D(filters=256, kernel_size=(3,3), activation='relu'),\n",
        "    tf.keras.layers.MaxPool2D(pool_size=(2, 2)),\n",
        "\n",
        "    tf.keras.layers.Flatten(),\n",
        "    tf.keras.layers.Dense(512, activation='relu'),\n",
        "    tf.keras.layers.Dropout(rate=0.5),\n",
        "\n",
        "    tf.keras.layers.Dense(256, activation='relu'),\n",
        "    tf.keras.layers.Dropout(rate=0.5),\n",
        "    \n",
        "    tf.keras.layers.Dense(43, activation='softmax')\n",
        "])"
      ],
      "metadata": {
        "id": "00M6KaLgIc2A"
      },
      "execution_count": 25,
      "outputs": []
    },
    {
      "cell_type": "code",
      "source": [
        "model_2.compile(\n",
        "  optimizer='adam',\n",
        "  loss='sparse_categorical_crossentropy',\n",
        "  metrics=['accuracy'])"
      ],
      "metadata": {
        "id": "xxgRcMdZKIGP"
      },
      "execution_count": 26,
      "outputs": []
    },
    {
      "cell_type": "code",
      "source": [
        "checkpoint_callback_2 = tf.keras.callbacks.ModelCheckpoint(\n",
        "    filepath='best_model_2.h5',\n",
        "    monitor='val_loss',\n",
        "    save_best_only=True\n",
        ")"
      ],
      "metadata": {
        "id": "Z-zK3izyKT5-"
      },
      "execution_count": 27,
      "outputs": []
    },
    {
      "cell_type": "code",
      "source": [
        "with tf.device('/GPU:0'):\n",
        "  history = model_2.fit(X_train, y_train, validation_data=(X_val, y_val), epochs=30, callbacks=[checkpoint_callback_2])"
      ],
      "metadata": {
        "colab": {
          "base_uri": "https://localhost:8080/"
        },
        "id": "uMfhmXuuKbVy",
        "outputId": "1d740740-2607-438c-c33d-a92e4f34d094"
      },
      "execution_count": 28,
      "outputs": [
        {
          "output_type": "stream",
          "name": "stdout",
          "text": [
            "Epoch 1/30\n",
            "981/981 [==============================] - 13s 10ms/step - loss: 2.1086 - accuracy: 0.3684 - val_loss: 0.7858 - val_accuracy: 0.7371\n",
            "Epoch 2/30\n",
            "981/981 [==============================] - 10s 10ms/step - loss: 0.6602 - accuracy: 0.7825 - val_loss: 0.1077 - val_accuracy: 0.9709\n",
            "Epoch 3/30\n",
            "981/981 [==============================] - 9s 9ms/step - loss: 0.2985 - accuracy: 0.9081 - val_loss: 0.0799 - val_accuracy: 0.9760\n",
            "Epoch 4/30\n",
            "981/981 [==============================] - 9s 9ms/step - loss: 0.1974 - accuracy: 0.9392 - val_loss: 0.0478 - val_accuracy: 0.9864\n",
            "Epoch 5/30\n",
            "981/981 [==============================] - 10s 10ms/step - loss: 0.1550 - accuracy: 0.9540 - val_loss: 0.0436 - val_accuracy: 0.9885\n",
            "Epoch 6/30\n",
            "981/981 [==============================] - 9s 10ms/step - loss: 0.1262 - accuracy: 0.9626 - val_loss: 0.0461 - val_accuracy: 0.9870\n",
            "Epoch 7/30\n",
            "981/981 [==============================] - 9s 9ms/step - loss: 0.1162 - accuracy: 0.9664 - val_loss: 0.0255 - val_accuracy: 0.9932\n",
            "Epoch 8/30\n",
            "981/981 [==============================] - 10s 10ms/step - loss: 0.1162 - accuracy: 0.9672 - val_loss: 0.0420 - val_accuracy: 0.9883\n",
            "Epoch 9/30\n",
            "981/981 [==============================] - 9s 9ms/step - loss: 0.0960 - accuracy: 0.9725 - val_loss: 0.0478 - val_accuracy: 0.9876\n",
            "Epoch 10/30\n",
            "981/981 [==============================] - 9s 9ms/step - loss: 0.0854 - accuracy: 0.9748 - val_loss: 0.0244 - val_accuracy: 0.9923\n",
            "Epoch 11/30\n",
            "981/981 [==============================] - 9s 9ms/step - loss: 0.0913 - accuracy: 0.9747 - val_loss: 0.0231 - val_accuracy: 0.9948\n",
            "Epoch 12/30\n",
            "981/981 [==============================] - 10s 10ms/step - loss: 0.0830 - accuracy: 0.9768 - val_loss: 0.0368 - val_accuracy: 0.9918\n",
            "Epoch 13/30\n",
            "981/981 [==============================] - 10s 10ms/step - loss: 0.0811 - accuracy: 0.9773 - val_loss: 0.0175 - val_accuracy: 0.9953\n",
            "Epoch 14/30\n",
            "981/981 [==============================] - 9s 9ms/step - loss: 0.0753 - accuracy: 0.9789 - val_loss: 0.0198 - val_accuracy: 0.9958\n",
            "Epoch 15/30\n",
            "981/981 [==============================] - 9s 9ms/step - loss: 0.0712 - accuracy: 0.9807 - val_loss: 0.0329 - val_accuracy: 0.9911\n",
            "Epoch 16/30\n",
            "981/981 [==============================] - 9s 9ms/step - loss: 0.0760 - accuracy: 0.9798 - val_loss: 0.0231 - val_accuracy: 0.9943\n",
            "Epoch 17/30\n",
            "981/981 [==============================] - 10s 10ms/step - loss: 0.0703 - accuracy: 0.9804 - val_loss: 0.0352 - val_accuracy: 0.9926\n",
            "Epoch 18/30\n",
            "981/981 [==============================] - 9s 9ms/step - loss: 0.0717 - accuracy: 0.9807 - val_loss: 0.0157 - val_accuracy: 0.9960\n",
            "Epoch 19/30\n",
            "981/981 [==============================] - 9s 9ms/step - loss: 0.0614 - accuracy: 0.9827 - val_loss: 0.0131 - val_accuracy: 0.9964\n",
            "Epoch 20/30\n",
            "981/981 [==============================] - 9s 9ms/step - loss: 0.0643 - accuracy: 0.9836 - val_loss: 0.0194 - val_accuracy: 0.9966\n",
            "Epoch 21/30\n",
            "981/981 [==============================] - 10s 10ms/step - loss: 0.0720 - accuracy: 0.9813 - val_loss: 0.0256 - val_accuracy: 0.9943\n",
            "Epoch 22/30\n",
            "981/981 [==============================] - 9s 9ms/step - loss: 0.0570 - accuracy: 0.9857 - val_loss: 0.0218 - val_accuracy: 0.9943\n",
            "Epoch 23/30\n",
            "981/981 [==============================] - 9s 10ms/step - loss: 0.0653 - accuracy: 0.9842 - val_loss: 0.0275 - val_accuracy: 0.9938\n",
            "Epoch 24/30\n",
            "981/981 [==============================] - 10s 10ms/step - loss: 0.0578 - accuracy: 0.9857 - val_loss: 0.0182 - val_accuracy: 0.9953\n",
            "Epoch 25/30\n",
            "981/981 [==============================] - 9s 9ms/step - loss: 0.0708 - accuracy: 0.9821 - val_loss: 0.0333 - val_accuracy: 0.9920\n",
            "Epoch 26/30\n",
            "981/981 [==============================] - 9s 9ms/step - loss: 0.0617 - accuracy: 0.9831 - val_loss: 0.0261 - val_accuracy: 0.9944\n",
            "Epoch 27/30\n",
            "981/981 [==============================] - 9s 10ms/step - loss: 0.0657 - accuracy: 0.9835 - val_loss: 0.0220 - val_accuracy: 0.9945\n",
            "Epoch 28/30\n",
            "981/981 [==============================] - 9s 9ms/step - loss: 0.0617 - accuracy: 0.9845 - val_loss: 0.0283 - val_accuracy: 0.9934\n",
            "Epoch 29/30\n",
            "981/981 [==============================] - 9s 9ms/step - loss: 0.0563 - accuracy: 0.9859 - val_loss: 0.0248 - val_accuracy: 0.9953\n",
            "Epoch 30/30\n",
            "981/981 [==============================] - 8s 9ms/step - loss: 0.0540 - accuracy: 0.9869 - val_loss: 0.0181 - val_accuracy: 0.9954\n"
          ]
        }
      ]
    },
    {
      "cell_type": "code",
      "source": [
        "model_2 = tf.keras.models.load_model('best_model_2.h5')"
      ],
      "metadata": {
        "id": "85ToXpl5MbMt"
      },
      "execution_count": 29,
      "outputs": []
    },
    {
      "cell_type": "code",
      "source": [
        "test_2 = pd.read_csv('/content/Test.csv')\n",
        "\n",
        "y_test_2 = test_2[\"ClassId\"].values\n",
        "imgs = test_2[\"Path\"].values\n",
        "\n",
        "data=[]\n",
        "\n",
        "with tf.device('/GPU:0'):\n",
        "    for img in imgs:\n",
        "        image = Image.open('/content/'+img)\n",
        "        image = image.resize([img_height, img_width])\n",
        "        data.append(np.array(image))\n",
        "\n",
        "X_test_2=np.array(data)"
      ],
      "metadata": {
        "id": "z8oEXZMVdYKf"
      },
      "execution_count": 30,
      "outputs": []
    },
    {
      "cell_type": "code",
      "source": [
        "model_2_predict = model_2.predict(X_test_2)\n",
        "\n",
        "correct_predict = []\n",
        "incorrect_predict = []\n",
        "\n",
        "for i in range(len(model_2_predict)):\n",
        "  label = np.argmax(model_2_predict[i])\n",
        "  if label == y_test_2[i]:\n",
        "    correct_predict.append(i)\n",
        "  else:\n",
        "    incorrect_predict.append(i)\n",
        "\n",
        "Accuracy = len(correct_predict) / (len(correct_predict) + len(incorrect_predict))\n",
        "print('Accuracy: {}'.format(Accuracy))"
      ],
      "metadata": {
        "colab": {
          "base_uri": "https://localhost:8080/"
        },
        "id": "bgM3-rruKqon",
        "outputId": "390193b8-98c7-4ff5-c09c-671eb3f9bde7"
      },
      "execution_count": 31,
      "outputs": [
        {
          "output_type": "stream",
          "name": "stdout",
          "text": [
            "395/395 [==============================] - 1s 2ms/step\n",
            "Accuracy: 0.9417260490894696\n"
          ]
        }
      ]
    },
    {
      "cell_type": "markdown",
      "source": [
        "### Model with only class weights "
      ],
      "metadata": {
        "id": "V3IsyO0xTwfg"
      }
    },
    {
      "cell_type": "code",
      "source": [
        "from keras.utils import np_utils\n",
        "from sklearn.utils.class_weight import compute_class_weight\n",
        "\n",
        "train_labels_one_hot = np_utils.to_categorical(labels)\n",
        "class_weights = compute_class_weight(class_weight=\"balanced\",\n",
        "                                     classes = np.unique(labels),\n",
        "                                     y = labels)\n",
        "class_weight_dict = dict(enumerate(class_weights))\n",
        "\n",
        "print('Class Weights:', class_weight_dict)\n"
      ],
      "metadata": {
        "colab": {
          "base_uri": "https://localhost:8080/"
        },
        "id": "ygcWmNsq9Vc7",
        "outputId": "75040bd6-2eab-41f9-d7d8-a0148e56294c"
      },
      "execution_count": 32,
      "outputs": [
        {
          "output_type": "stream",
          "name": "stdout",
          "text": [
            "Class Weights: {0: 4.342081949058693, 1: 0.41073748166771423, 2: 0.4052609819121447, 3: 0.6466930562427841, 4: 0.46052384308198263, 5: 0.49023505876469115, 6: 2.1710409745293466, 7: 0.6332202842377261, 8: 0.6466930562427841, 9: 0.620297421294099, 10: 0.45365035288672917, 11: 0.6907857646229739, 12: 0.4342081949058693, 13: 0.4221468561584841, 14: 1.1690220632081096, 15: 1.447360649686231, 16: 2.1710409745293466, 17: 0.8214749633354285, 18: 0.7598643410852713, 19: 4.342081949058693, 20: 2.5328811369509046, 21: 2.7631430584918957, 22: 2.3380441264162193, 23: 1.7879160966712266, 24: 3.3771748492678726, 25: 0.6078914728682171, 26: 1.5197286821705427, 27: 3.7993217054263564, 28: 1.6885874246339363, 29: 3.3771748492678726, 30: 2.0263049095607237, 31: 1.1690220632081096, 32: 3.7993217054263564, 33: 1.3234212036318223, 34: 2.1710409745293466, 35: 0.7598643410852713, 36: 2.3380441264162193, 37: 4.342081949058693, 38: 0.44050106729580946, 39: 3.0394573643410854, 40: 2.5328811369509046, 41: 3.7993217054263564, 42: 3.7993217054263564}\n"
          ]
        }
      ]
    },
    {
      "cell_type": "code",
      "source": [
        "model_3 = tf.keras.Sequential([\n",
        "    tf.keras.layers.InputLayer(input_shape=(img_height, img_width, 3)),\n",
        "    \n",
        "    tf.keras.layers.Conv2D(filters=32, kernel_size=(3,3), activation='relu'), \n",
        "    tf.keras.layers.Conv2D(filters=64, kernel_size=(3,3), activation='relu'),\n",
        "    tf.keras.layers.MaxPool2D(pool_size=(2, 2)),\n",
        "    \n",
        "    tf.keras.layers.Conv2D(filters=128, kernel_size=(3,3), activation='relu'),\n",
        "    tf.keras.layers.Conv2D(filters=256, kernel_size=(3,3), activation='relu'),\n",
        "    tf.keras.layers.MaxPool2D(pool_size=(2, 2)),\n",
        "\n",
        "    tf.keras.layers.Flatten(),\n",
        "    tf.keras.layers.Dense(512, activation='relu'),\n",
        "    tf.keras.layers.Dropout(rate=0.5),\n",
        "\n",
        "    tf.keras.layers.Dense(256, activation='relu'),\n",
        "    tf.keras.layers.Dropout(rate=0.5),\n",
        "    \n",
        "    tf.keras.layers.Dense(43, activation='softmax')\n",
        "])"
      ],
      "metadata": {
        "id": "sqdtsQCFLR3z"
      },
      "execution_count": 33,
      "outputs": []
    },
    {
      "cell_type": "code",
      "source": [
        "model_3.compile(\n",
        "  optimizer='adam',\n",
        "  loss='sparse_categorical_crossentropy',\n",
        "  metrics=['accuracy'])"
      ],
      "metadata": {
        "id": "BRBGYmmjLnJR"
      },
      "execution_count": 34,
      "outputs": []
    },
    {
      "cell_type": "code",
      "source": [
        "checkpoint_callback_3 = tf.keras.callbacks.ModelCheckpoint(\n",
        "    filepath='best_model_3.h5',\n",
        "    monitor='val_loss',\n",
        "    save_best_only=True\n",
        ")"
      ],
      "metadata": {
        "id": "QXI0EleqLucj"
      },
      "execution_count": 35,
      "outputs": []
    },
    {
      "cell_type": "code",
      "source": [
        "with tf.device('/GPU:0'):\n",
        "  history = model_3.fit(X_train, y_train, validation_data=(X_val, y_val), epochs=30, callbacks=[checkpoint_callback_3], class_weight=class_weight_dict)"
      ],
      "metadata": {
        "colab": {
          "base_uri": "https://localhost:8080/"
        },
        "id": "dPyypl1TL0i1",
        "outputId": "2be0722b-2cd4-4f96-80bd-426068ee45cb"
      },
      "execution_count": 36,
      "outputs": [
        {
          "output_type": "stream",
          "name": "stdout",
          "text": [
            "Epoch 1/30\n",
            "981/981 [==============================] - 11s 9ms/step - loss: 2.2841 - accuracy: 0.3360 - val_loss: 0.4796 - val_accuracy: 0.8732\n",
            "Epoch 2/30\n",
            "981/981 [==============================] - 7s 8ms/step - loss: 0.4145 - accuracy: 0.8526 - val_loss: 0.1138 - val_accuracy: 0.9727\n",
            "Epoch 3/30\n",
            "981/981 [==============================] - 8s 8ms/step - loss: 0.1733 - accuracy: 0.9397 - val_loss: 0.0686 - val_accuracy: 0.9802\n",
            "Epoch 4/30\n",
            "981/981 [==============================] - 8s 8ms/step - loss: 0.1165 - accuracy: 0.9611 - val_loss: 0.0690 - val_accuracy: 0.9813\n",
            "Epoch 5/30\n",
            "981/981 [==============================] - 8s 8ms/step - loss: 0.1029 - accuracy: 0.9669 - val_loss: 0.0403 - val_accuracy: 0.9889\n",
            "Epoch 6/30\n",
            "981/981 [==============================] - 8s 8ms/step - loss: 0.0800 - accuracy: 0.9755 - val_loss: 0.0440 - val_accuracy: 0.9881\n",
            "Epoch 7/30\n",
            "981/981 [==============================] - 8s 8ms/step - loss: 0.0631 - accuracy: 0.9802 - val_loss: 0.0534 - val_accuracy: 0.9871\n",
            "Epoch 8/30\n",
            "981/981 [==============================] - 8s 8ms/step - loss: 0.0564 - accuracy: 0.9805 - val_loss: 0.0286 - val_accuracy: 0.9938\n",
            "Epoch 9/30\n",
            "981/981 [==============================] - 8s 8ms/step - loss: 0.0434 - accuracy: 0.9849 - val_loss: 0.0309 - val_accuracy: 0.9943\n",
            "Epoch 10/30\n",
            "981/981 [==============================] - 8s 8ms/step - loss: 0.0667 - accuracy: 0.9800 - val_loss: 0.0261 - val_accuracy: 0.9950\n",
            "Epoch 11/30\n",
            "981/981 [==============================] - 8s 8ms/step - loss: 0.0356 - accuracy: 0.9882 - val_loss: 0.0304 - val_accuracy: 0.9941\n",
            "Epoch 12/30\n",
            "981/981 [==============================] - 8s 8ms/step - loss: 0.0558 - accuracy: 0.9840 - val_loss: 0.0239 - val_accuracy: 0.9939\n",
            "Epoch 13/30\n",
            "981/981 [==============================] - 8s 8ms/step - loss: 0.0372 - accuracy: 0.9886 - val_loss: 0.0467 - val_accuracy: 0.9874\n",
            "Epoch 14/30\n",
            "981/981 [==============================] - 8s 8ms/step - loss: 0.0635 - accuracy: 0.9840 - val_loss: 0.0211 - val_accuracy: 0.9962\n",
            "Epoch 15/30\n",
            "981/981 [==============================] - 7s 7ms/step - loss: 0.0555 - accuracy: 0.9867 - val_loss: 0.0260 - val_accuracy: 0.9957\n",
            "Epoch 16/30\n",
            "981/981 [==============================] - 8s 8ms/step - loss: 0.0329 - accuracy: 0.9903 - val_loss: 0.0510 - val_accuracy: 0.9880\n",
            "Epoch 17/30\n",
            "981/981 [==============================] - 8s 8ms/step - loss: 0.0274 - accuracy: 0.9929 - val_loss: 0.0200 - val_accuracy: 0.9963\n",
            "Epoch 18/30\n",
            "981/981 [==============================] - 8s 8ms/step - loss: 0.0454 - accuracy: 0.9883 - val_loss: 0.0722 - val_accuracy: 0.9823\n",
            "Epoch 19/30\n",
            "981/981 [==============================] - 8s 8ms/step - loss: 0.0545 - accuracy: 0.9870 - val_loss: 0.0252 - val_accuracy: 0.9959\n",
            "Epoch 20/30\n",
            "981/981 [==============================] - 8s 8ms/step - loss: 0.0339 - accuracy: 0.9908 - val_loss: 0.0196 - val_accuracy: 0.9962\n",
            "Epoch 21/30\n",
            "981/981 [==============================] - 8s 8ms/step - loss: 0.0294 - accuracy: 0.9923 - val_loss: 0.0302 - val_accuracy: 0.9946\n",
            "Epoch 22/30\n",
            "981/981 [==============================] - 8s 8ms/step - loss: 0.0397 - accuracy: 0.9900 - val_loss: 0.0239 - val_accuracy: 0.9960\n",
            "Epoch 23/30\n",
            "981/981 [==============================] - 8s 8ms/step - loss: 0.0469 - accuracy: 0.9895 - val_loss: 0.0413 - val_accuracy: 0.9906\n",
            "Epoch 24/30\n",
            "981/981 [==============================] - 8s 8ms/step - loss: 0.0405 - accuracy: 0.9911 - val_loss: 0.0219 - val_accuracy: 0.9964\n",
            "Epoch 25/30\n",
            "981/981 [==============================] - 8s 8ms/step - loss: 0.0356 - accuracy: 0.9918 - val_loss: 0.0263 - val_accuracy: 0.9953\n",
            "Epoch 26/30\n",
            "981/981 [==============================] - 7s 7ms/step - loss: 0.0378 - accuracy: 0.9924 - val_loss: 0.0196 - val_accuracy: 0.9959\n",
            "Epoch 27/30\n",
            "981/981 [==============================] - 8s 8ms/step - loss: 0.0268 - accuracy: 0.9937 - val_loss: 0.0291 - val_accuracy: 0.9963\n",
            "Epoch 28/30\n",
            "981/981 [==============================] - 8s 8ms/step - loss: 0.0362 - accuracy: 0.9928 - val_loss: 0.0541 - val_accuracy: 0.9912\n",
            "Epoch 29/30\n",
            "981/981 [==============================] - 8s 8ms/step - loss: 0.0724 - accuracy: 0.9868 - val_loss: 0.0266 - val_accuracy: 0.9948\n",
            "Epoch 30/30\n",
            "981/981 [==============================] - 8s 8ms/step - loss: 0.0300 - accuracy: 0.9938 - val_loss: 0.0181 - val_accuracy: 0.9973\n"
          ]
        }
      ]
    },
    {
      "cell_type": "code",
      "source": [
        "model_3 = tf.keras.models.load_model('best_model_3.h5')"
      ],
      "metadata": {
        "id": "FgD821lQMhxs"
      },
      "execution_count": 37,
      "outputs": []
    },
    {
      "cell_type": "code",
      "source": [
        "test_3 = pd.read_csv('/content/Test.csv')\n",
        "\n",
        "y_test_3 = test_3[\"ClassId\"].values\n",
        "imgs = test_3[\"Path\"].values\n",
        "\n",
        "data=[]\n",
        "\n",
        "with tf.device('/GPU:0'):\n",
        "    for img in imgs:\n",
        "        image = Image.open('/content/'+img)\n",
        "        image = image.resize([img_height, img_width])\n",
        "        data.append(np.array(image))\n",
        "\n",
        "X_test_3=np.array(data)"
      ],
      "metadata": {
        "id": "R3idOuzIdwji"
      },
      "execution_count": 38,
      "outputs": []
    },
    {
      "cell_type": "code",
      "source": [
        "X_test_3 = X_test_3/255\n",
        "model_3_predict = model_3.predict(X_test_3)\n",
        "\n",
        "correct_predict = []\n",
        "incorrect_predict = []\n",
        "\n",
        "for i in range(len(model_3_predict)):\n",
        "  label = np.argmax(model_3_predict[i])\n",
        "  if label == y_test_3[i]:\n",
        "    correct_predict.append(i)\n",
        "  else:\n",
        "    incorrect_predict.append(i)\n",
        "\n",
        "Accuracy = len(correct_predict) / (len(correct_predict) + len(incorrect_predict))\n",
        "print('Accuracy: {}'.format(Accuracy))"
      ],
      "metadata": {
        "colab": {
          "base_uri": "https://localhost:8080/"
        },
        "id": "62I3ybEXMEvv",
        "outputId": "550355ac-4931-437b-cb67-b1b9fb791b2f"
      },
      "execution_count": 39,
      "outputs": [
        {
          "output_type": "stream",
          "name": "stdout",
          "text": [
            "395/395 [==============================] - 1s 2ms/step\n",
            "Accuracy: 0.9755344418052256\n"
          ]
        }
      ]
    },
    {
      "cell_type": "markdown",
      "source": [
        "### Model with both data augmentation and class weights\n"
      ],
      "metadata": {
        "id": "p9eOCcn0T4bg"
      }
    },
    {
      "cell_type": "code",
      "source": [
        "model_4 = tf.keras.Sequential([\n",
        "    tf.keras.layers.InputLayer(input_shape=(img_height, img_width, 3)),\n",
        "    data_augmentation,\n",
        "    \n",
        "    tf.keras.layers.Conv2D(filters=32, kernel_size=(3,3), activation='relu'), \n",
        "    tf.keras.layers.Conv2D(filters=64, kernel_size=(3,3), activation='relu'),\n",
        "    tf.keras.layers.MaxPool2D(pool_size=(2, 2)),\n",
        "    \n",
        "    tf.keras.layers.Conv2D(filters=128, kernel_size=(3,3), activation='relu'),\n",
        "    tf.keras.layers.Conv2D(filters=256, kernel_size=(3,3), activation='relu'),\n",
        "    tf.keras.layers.MaxPool2D(pool_size=(2, 2)),\n",
        "\n",
        "    tf.keras.layers.Flatten(),\n",
        "    tf.keras.layers.Dense(512, activation='relu'),\n",
        "    tf.keras.layers.Dropout(rate=0.5),\n",
        "\n",
        "    tf.keras.layers.Dense(256, activation='relu'),\n",
        "    tf.keras.layers.Dropout(rate=0.5),\n",
        "    \n",
        "    tf.keras.layers.Dense(43, activation='softmax')\n",
        "])"
      ],
      "metadata": {
        "id": "VAZHAv_MMzFa"
      },
      "execution_count": 40,
      "outputs": []
    },
    {
      "cell_type": "code",
      "source": [
        "model_4.compile(\n",
        "  optimizer='adam',\n",
        "  loss='sparse_categorical_crossentropy',\n",
        "  metrics=['accuracy'])"
      ],
      "metadata": {
        "id": "uQN_BF07M6OZ"
      },
      "execution_count": 41,
      "outputs": []
    },
    {
      "cell_type": "code",
      "source": [
        "checkpoint_callback_4 = tf.keras.callbacks.ModelCheckpoint(\n",
        "    filepath='best_model_4.h5',\n",
        "    monitor='val_loss',\n",
        "    save_best_only=True\n",
        ")"
      ],
      "metadata": {
        "id": "b1a6C9oZM8cn"
      },
      "execution_count": 42,
      "outputs": []
    },
    {
      "cell_type": "code",
      "source": [
        "with tf.device('/GPU:0'):\n",
        "  history = model_4.fit(X_train, y_train, validation_data=(X_val, y_val), epochs=30, callbacks=[checkpoint_callback_4], class_weight=class_weight_dict)"
      ],
      "metadata": {
        "colab": {
          "base_uri": "https://localhost:8080/"
        },
        "id": "NkXvBn2sNBB8",
        "outputId": "4d69e6a7-8b43-41f8-b35b-a528bba79e59"
      },
      "execution_count": 43,
      "outputs": [
        {
          "output_type": "stream",
          "name": "stdout",
          "text": [
            "Epoch 1/30\n",
            "981/981 [==============================] - 14s 10ms/step - loss: 2.6811 - accuracy: 0.2283 - val_loss: 1.2498 - val_accuracy: 0.5501\n",
            "Epoch 2/30\n",
            "981/981 [==============================] - 10s 10ms/step - loss: 1.1376 - accuracy: 0.6028 - val_loss: 0.5508 - val_accuracy: 0.8184\n",
            "Epoch 3/30\n",
            "981/981 [==============================] - 10s 10ms/step - loss: 0.6205 - accuracy: 0.7780 - val_loss: 0.2262 - val_accuracy: 0.9199\n",
            "Epoch 4/30\n",
            "981/981 [==============================] - 10s 10ms/step - loss: 0.4005 - accuracy: 0.8513 - val_loss: 0.1455 - val_accuracy: 0.9535\n",
            "Epoch 5/30\n",
            "981/981 [==============================] - 9s 10ms/step - loss: 0.3014 - accuracy: 0.8902 - val_loss: 0.1813 - val_accuracy: 0.9463\n",
            "Epoch 6/30\n",
            "981/981 [==============================] - 9s 9ms/step - loss: 0.2602 - accuracy: 0.9055 - val_loss: 0.0846 - val_accuracy: 0.9748\n",
            "Epoch 7/30\n",
            "981/981 [==============================] - 9s 10ms/step - loss: 0.2346 - accuracy: 0.9152 - val_loss: 0.0607 - val_accuracy: 0.9836\n",
            "Epoch 8/30\n",
            "981/981 [==============================] - 9s 9ms/step - loss: 0.1931 - accuracy: 0.9310 - val_loss: 0.0609 - val_accuracy: 0.9818\n",
            "Epoch 9/30\n",
            "981/981 [==============================] - 10s 10ms/step - loss: 0.1895 - accuracy: 0.9331 - val_loss: 0.0529 - val_accuracy: 0.9855\n",
            "Epoch 10/30\n",
            "981/981 [==============================] - 9s 9ms/step - loss: 0.1853 - accuracy: 0.9366 - val_loss: 0.0545 - val_accuracy: 0.9843\n",
            "Epoch 11/30\n",
            "981/981 [==============================] - 10s 10ms/step - loss: 0.1648 - accuracy: 0.9429 - val_loss: 0.1125 - val_accuracy: 0.9662\n",
            "Epoch 12/30\n",
            "981/981 [==============================] - 9s 9ms/step - loss: 0.1490 - accuracy: 0.9476 - val_loss: 0.0512 - val_accuracy: 0.9861\n",
            "Epoch 13/30\n",
            "981/981 [==============================] - 9s 9ms/step - loss: 0.1401 - accuracy: 0.9539 - val_loss: 0.1003 - val_accuracy: 0.9739\n",
            "Epoch 14/30\n",
            "981/981 [==============================] - 9s 10ms/step - loss: 0.1491 - accuracy: 0.9508 - val_loss: 0.0761 - val_accuracy: 0.9776\n",
            "Epoch 15/30\n",
            "981/981 [==============================] - 10s 10ms/step - loss: 0.1355 - accuracy: 0.9557 - val_loss: 0.0404 - val_accuracy: 0.9887\n",
            "Epoch 16/30\n",
            "981/981 [==============================] - 9s 9ms/step - loss: 0.1284 - accuracy: 0.9580 - val_loss: 0.0537 - val_accuracy: 0.9832\n",
            "Epoch 17/30\n",
            "981/981 [==============================] - 10s 10ms/step - loss: 0.1353 - accuracy: 0.9566 - val_loss: 0.0571 - val_accuracy: 0.9832\n",
            "Epoch 18/30\n",
            "981/981 [==============================] - 9s 9ms/step - loss: 0.1223 - accuracy: 0.9604 - val_loss: 0.0570 - val_accuracy: 0.9830\n",
            "Epoch 19/30\n",
            "981/981 [==============================] - 9s 9ms/step - loss: 0.1197 - accuracy: 0.9600 - val_loss: 0.0552 - val_accuracy: 0.9839\n",
            "Epoch 20/30\n",
            "981/981 [==============================] - 9s 9ms/step - loss: 0.1319 - accuracy: 0.9587 - val_loss: 0.0671 - val_accuracy: 0.9821\n",
            "Epoch 21/30\n",
            "981/981 [==============================] - 9s 10ms/step - loss: 0.1207 - accuracy: 0.9607 - val_loss: 0.0443 - val_accuracy: 0.9878\n",
            "Epoch 22/30\n",
            "981/981 [==============================] - 9s 9ms/step - loss: 0.1156 - accuracy: 0.9653 - val_loss: 0.0627 - val_accuracy: 0.9830\n",
            "Epoch 23/30\n",
            "981/981 [==============================] - 10s 10ms/step - loss: 0.1041 - accuracy: 0.9658 - val_loss: 0.0845 - val_accuracy: 0.9806\n",
            "Epoch 24/30\n",
            "981/981 [==============================] - 10s 10ms/step - loss: 0.0994 - accuracy: 0.9668 - val_loss: 0.0382 - val_accuracy: 0.9876\n",
            "Epoch 25/30\n",
            "981/981 [==============================] - 9s 9ms/step - loss: 0.1176 - accuracy: 0.9643 - val_loss: 0.0564 - val_accuracy: 0.9855\n",
            "Epoch 26/30\n",
            "981/981 [==============================] - 9s 9ms/step - loss: 0.1039 - accuracy: 0.9657 - val_loss: 0.0796 - val_accuracy: 0.9821\n",
            "Epoch 27/30\n",
            "981/981 [==============================] - 10s 10ms/step - loss: 0.1015 - accuracy: 0.9689 - val_loss: 0.0401 - val_accuracy: 0.9883\n",
            "Epoch 28/30\n",
            "981/981 [==============================] - 10s 10ms/step - loss: 0.1103 - accuracy: 0.9668 - val_loss: 0.0452 - val_accuracy: 0.9901\n",
            "Epoch 29/30\n",
            "981/981 [==============================] - 10s 10ms/step - loss: 0.1057 - accuracy: 0.9674 - val_loss: 0.0551 - val_accuracy: 0.9874\n",
            "Epoch 30/30\n",
            "981/981 [==============================] - 9s 9ms/step - loss: 0.1153 - accuracy: 0.9657 - val_loss: 0.0471 - val_accuracy: 0.9897\n"
          ]
        }
      ]
    },
    {
      "cell_type": "code",
      "source": [
        "model_4 = tf.keras.models.load_model('best_model_4.h5')"
      ],
      "metadata": {
        "id": "zcEcMuyiNFeX"
      },
      "execution_count": 44,
      "outputs": []
    },
    {
      "cell_type": "code",
      "source": [
        "test_4 = pd.read_csv('/content/Test.csv')\n",
        "\n",
        "y_test_4 = test_4[\"ClassId\"].values\n",
        "imgs = test_4[\"Path\"].values\n",
        "\n",
        "data=[]\n",
        "\n",
        "with tf.device('/GPU:0'):\n",
        "    for img in imgs:\n",
        "        image = Image.open('/content/'+img)\n",
        "        image = image.resize([img_height, img_width])\n",
        "        data.append(np.array(image))\n",
        "\n",
        "X_test_4=np.array(data)"
      ],
      "metadata": {
        "id": "8_Z0j9O7d9hr"
      },
      "execution_count": 45,
      "outputs": []
    },
    {
      "cell_type": "code",
      "source": [
        "model_4_predict = model_4.predict(X_test_4)\n",
        "\n",
        "correct_predict = []\n",
        "incorrect_predict = []\n",
        "\n",
        "for i in range(len(model_4_predict)):\n",
        "  label = np.argmax(model_4_predict[i])\n",
        "  if label == y_test_4[i]:\n",
        "    correct_predict.append(i)\n",
        "  else:\n",
        "    incorrect_predict.append(i)\n",
        "\n",
        "Accuracy = len(correct_predict) / (len(correct_predict) + len(incorrect_predict))\n",
        "print('Accuracy: {}'.format(Accuracy))"
      ],
      "metadata": {
        "colab": {
          "base_uri": "https://localhost:8080/"
        },
        "id": "37to7N4sNIAU",
        "outputId": "0838a45f-950a-41a1-c858-00b5d7bb8c45"
      },
      "execution_count": 48,
      "outputs": [
        {
          "output_type": "stream",
          "name": "stdout",
          "text": [
            "395/395 [==============================] - 2s 4ms/step\n",
            "Accuracy: 0.8488519398258115\n"
          ]
        }
      ]
    }
  ]
}