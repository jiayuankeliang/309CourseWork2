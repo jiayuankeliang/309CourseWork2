{
  "nbformat": 4,
  "nbformat_minor": 0,
  "metadata": {
    "colab": {
      "provenance": [],
      "mount_file_id": "https://github.com/jiayuankeliang/309CourseWork2/blob/main/end_to_end.ipynb",
      "authorship_tag": "ABX9TyOk4AhMyx1kIftaC/rDwEo6",
      "include_colab_link": true
    },
    "kernelspec": {
      "name": "python3",
      "display_name": "Python 3"
    },
    "language_info": {
      "name": "python"
    },
    "accelerator": "GPU",
    "gpuClass": "standard"
  },
  "cells": [
    {
      "cell_type": "markdown",
      "metadata": {
        "id": "view-in-github",
        "colab_type": "text"
      },
      "source": [
        "<a href=\"https://colab.research.google.com/github/jiayuankeliang/309CourseWork2/blob/main/end_to_end.ipynb\" target=\"_parent\"><img src=\"https://colab.research.google.com/assets/colab-badge.svg\" alt=\"Open In Colab\"/></a>"
      ]
    },
    {
      "cell_type": "code",
      "source": [
        "!pip install -q kaggle"
      ],
      "metadata": {
        "id": "6m_8g1siiqhK"
      },
      "execution_count": 1,
      "outputs": []
    },
    {
      "cell_type": "code",
      "source": [
        "from google.colab import files\n",
        "files.upload()"
      ],
      "metadata": {
        "id": "qZy_54RRi2rv",
        "outputId": "9a098d5b-4b3b-4d07-8cbb-9f65ea07f985",
        "colab": {
          "base_uri": "https://localhost:8080/",
          "height": 59
        }
      },
      "execution_count": 2,
      "outputs": [
        {
          "output_type": "display_data",
          "data": {
            "text/plain": [
              "<IPython.core.display.HTML object>"
            ],
            "text/html": [
              "\n",
              "     <input type=\"file\" id=\"files-2047a19d-ad85-4f76-875e-0514f4aaff4c\" name=\"files[]\" multiple disabled\n",
              "        style=\"border:none\" />\n",
              "     <output id=\"result-2047a19d-ad85-4f76-875e-0514f4aaff4c\">\n",
              "      Upload widget is only available when the cell has been executed in the\n",
              "      current browser session. Please rerun this cell to enable.\n",
              "      </output>\n",
              "      <script>// Copyright 2017 Google LLC\n",
              "//\n",
              "// Licensed under the Apache License, Version 2.0 (the \"License\");\n",
              "// you may not use this file except in compliance with the License.\n",
              "// You may obtain a copy of the License at\n",
              "//\n",
              "//      http://www.apache.org/licenses/LICENSE-2.0\n",
              "//\n",
              "// Unless required by applicable law or agreed to in writing, software\n",
              "// distributed under the License is distributed on an \"AS IS\" BASIS,\n",
              "// WITHOUT WARRANTIES OR CONDITIONS OF ANY KIND, either express or implied.\n",
              "// See the License for the specific language governing permissions and\n",
              "// limitations under the License.\n",
              "\n",
              "/**\n",
              " * @fileoverview Helpers for google.colab Python module.\n",
              " */\n",
              "(function(scope) {\n",
              "function span(text, styleAttributes = {}) {\n",
              "  const element = document.createElement('span');\n",
              "  element.textContent = text;\n",
              "  for (const key of Object.keys(styleAttributes)) {\n",
              "    element.style[key] = styleAttributes[key];\n",
              "  }\n",
              "  return element;\n",
              "}\n",
              "\n",
              "// Max number of bytes which will be uploaded at a time.\n",
              "const MAX_PAYLOAD_SIZE = 100 * 1024;\n",
              "\n",
              "function _uploadFiles(inputId, outputId) {\n",
              "  const steps = uploadFilesStep(inputId, outputId);\n",
              "  const outputElement = document.getElementById(outputId);\n",
              "  // Cache steps on the outputElement to make it available for the next call\n",
              "  // to uploadFilesContinue from Python.\n",
              "  outputElement.steps = steps;\n",
              "\n",
              "  return _uploadFilesContinue(outputId);\n",
              "}\n",
              "\n",
              "// This is roughly an async generator (not supported in the browser yet),\n",
              "// where there are multiple asynchronous steps and the Python side is going\n",
              "// to poll for completion of each step.\n",
              "// This uses a Promise to block the python side on completion of each step,\n",
              "// then passes the result of the previous step as the input to the next step.\n",
              "function _uploadFilesContinue(outputId) {\n",
              "  const outputElement = document.getElementById(outputId);\n",
              "  const steps = outputElement.steps;\n",
              "\n",
              "  const next = steps.next(outputElement.lastPromiseValue);\n",
              "  return Promise.resolve(next.value.promise).then((value) => {\n",
              "    // Cache the last promise value to make it available to the next\n",
              "    // step of the generator.\n",
              "    outputElement.lastPromiseValue = value;\n",
              "    return next.value.response;\n",
              "  });\n",
              "}\n",
              "\n",
              "/**\n",
              " * Generator function which is called between each async step of the upload\n",
              " * process.\n",
              " * @param {string} inputId Element ID of the input file picker element.\n",
              " * @param {string} outputId Element ID of the output display.\n",
              " * @return {!Iterable<!Object>} Iterable of next steps.\n",
              " */\n",
              "function* uploadFilesStep(inputId, outputId) {\n",
              "  const inputElement = document.getElementById(inputId);\n",
              "  inputElement.disabled = false;\n",
              "\n",
              "  const outputElement = document.getElementById(outputId);\n",
              "  outputElement.innerHTML = '';\n",
              "\n",
              "  const pickedPromise = new Promise((resolve) => {\n",
              "    inputElement.addEventListener('change', (e) => {\n",
              "      resolve(e.target.files);\n",
              "    });\n",
              "  });\n",
              "\n",
              "  const cancel = document.createElement('button');\n",
              "  inputElement.parentElement.appendChild(cancel);\n",
              "  cancel.textContent = 'Cancel upload';\n",
              "  const cancelPromise = new Promise((resolve) => {\n",
              "    cancel.onclick = () => {\n",
              "      resolve(null);\n",
              "    };\n",
              "  });\n",
              "\n",
              "  // Wait for the user to pick the files.\n",
              "  const files = yield {\n",
              "    promise: Promise.race([pickedPromise, cancelPromise]),\n",
              "    response: {\n",
              "      action: 'starting',\n",
              "    }\n",
              "  };\n",
              "\n",
              "  cancel.remove();\n",
              "\n",
              "  // Disable the input element since further picks are not allowed.\n",
              "  inputElement.disabled = true;\n",
              "\n",
              "  if (!files) {\n",
              "    return {\n",
              "      response: {\n",
              "        action: 'complete',\n",
              "      }\n",
              "    };\n",
              "  }\n",
              "\n",
              "  for (const file of files) {\n",
              "    const li = document.createElement('li');\n",
              "    li.append(span(file.name, {fontWeight: 'bold'}));\n",
              "    li.append(span(\n",
              "        `(${file.type || 'n/a'}) - ${file.size} bytes, ` +\n",
              "        `last modified: ${\n",
              "            file.lastModifiedDate ? file.lastModifiedDate.toLocaleDateString() :\n",
              "                                    'n/a'} - `));\n",
              "    const percent = span('0% done');\n",
              "    li.appendChild(percent);\n",
              "\n",
              "    outputElement.appendChild(li);\n",
              "\n",
              "    const fileDataPromise = new Promise((resolve) => {\n",
              "      const reader = new FileReader();\n",
              "      reader.onload = (e) => {\n",
              "        resolve(e.target.result);\n",
              "      };\n",
              "      reader.readAsArrayBuffer(file);\n",
              "    });\n",
              "    // Wait for the data to be ready.\n",
              "    let fileData = yield {\n",
              "      promise: fileDataPromise,\n",
              "      response: {\n",
              "        action: 'continue',\n",
              "      }\n",
              "    };\n",
              "\n",
              "    // Use a chunked sending to avoid message size limits. See b/62115660.\n",
              "    let position = 0;\n",
              "    do {\n",
              "      const length = Math.min(fileData.byteLength - position, MAX_PAYLOAD_SIZE);\n",
              "      const chunk = new Uint8Array(fileData, position, length);\n",
              "      position += length;\n",
              "\n",
              "      const base64 = btoa(String.fromCharCode.apply(null, chunk));\n",
              "      yield {\n",
              "        response: {\n",
              "          action: 'append',\n",
              "          file: file.name,\n",
              "          data: base64,\n",
              "        },\n",
              "      };\n",
              "\n",
              "      let percentDone = fileData.byteLength === 0 ?\n",
              "          100 :\n",
              "          Math.round((position / fileData.byteLength) * 100);\n",
              "      percent.textContent = `${percentDone}% done`;\n",
              "\n",
              "    } while (position < fileData.byteLength);\n",
              "  }\n",
              "\n",
              "  // All done.\n",
              "  yield {\n",
              "    response: {\n",
              "      action: 'complete',\n",
              "    }\n",
              "  };\n",
              "}\n",
              "\n",
              "scope.google = scope.google || {};\n",
              "scope.google.colab = scope.google.colab || {};\n",
              "scope.google.colab._files = {\n",
              "  _uploadFiles,\n",
              "  _uploadFilesContinue,\n",
              "};\n",
              "})(self);\n",
              "</script> "
            ]
          },
          "metadata": {}
        },
        {
          "output_type": "execute_result",
          "data": {
            "text/plain": [
              "{}"
            ]
          },
          "metadata": {},
          "execution_count": 2
        }
      ]
    },
    {
      "cell_type": "code",
      "source": [
        "! mkdir ~/.kaggle"
      ],
      "metadata": {
        "id": "kKPmWHnnjEkK"
      },
      "execution_count": 4,
      "outputs": []
    },
    {
      "cell_type": "code",
      "source": [
        "! cp kaggle.json ~/.kaggle/"
      ],
      "metadata": {
        "id": "L20RIpYujInd"
      },
      "execution_count": 5,
      "outputs": []
    },
    {
      "cell_type": "code",
      "source": [
        "! chmod 600  ~/.kaggle/kaggle.json"
      ],
      "metadata": {
        "id": "Ia6TVFpejQxD"
      },
      "execution_count": 6,
      "outputs": []
    },
    {
      "cell_type": "code",
      "source": [
        "!kaggle datasets download meowmeowmeowmeowmeow/gtsrb-german-traffic-sign"
      ],
      "metadata": {
        "id": "FlkUa4J4jTu8",
        "outputId": "ff28c871-d7ed-4076-b58f-6e5026f68e80",
        "colab": {
          "base_uri": "https://localhost:8080/"
        }
      },
      "execution_count": 7,
      "outputs": [
        {
          "output_type": "stream",
          "name": "stdout",
          "text": [
            "Downloading gtsrb-german-traffic-sign.zip to /content\n",
            "100% 611M/612M [00:32<00:00, 19.9MB/s]\n",
            "100% 612M/612M [00:32<00:00, 19.8MB/s]\n"
          ]
        }
      ]
    },
    {
      "cell_type": "code",
      "source": [
        "import zipfile\n",
        "\n",
        "filename = '/content/gtsrb-german-traffic-sign.zip'\n",
        "\n",
        "with zipfile.ZipFile(filename, 'r') as zip_ref:\n",
        "  zip_ref.extractall('.')"
      ],
      "metadata": {
        "id": "QXHQn0rglXrg"
      },
      "execution_count": 8,
      "outputs": []
    },
    {
      "cell_type": "code",
      "execution_count": 9,
      "metadata": {
        "id": "JgXk2l0Nq9j8"
      },
      "outputs": [],
      "source": [
        "import numpy as np\n",
        "import os\n",
        "import PIL\n",
        "import PIL.Image\n",
        "import tensorflow as tf\n",
        "import tensorflow_datasets as tfds\n",
        "import pandas as pd"
      ]
    },
    {
      "cell_type": "code",
      "source": [
        "batch_size = 32\n",
        "img_height = 32\n",
        "img_width = 32"
      ],
      "metadata": {
        "id": "HiNvNh9eJVWq"
      },
      "execution_count": 10,
      "outputs": []
    },
    {
      "cell_type": "code",
      "source": [
        "train_set = tf.keras.utils.image_dataset_from_directory(\n",
        "  '/content/Train',\n",
        "  validation_split=0.2,\n",
        "  subset=\"training\",\n",
        "  seed=123,\n",
        "  image_size=(img_height, img_width),\n",
        "  batch_size=batch_size)"
      ],
      "metadata": {
        "colab": {
          "base_uri": "https://localhost:8080/"
        },
        "id": "aG8sOsXNJduV",
        "outputId": "3bb9d38c-1aea-47a2-f7f6-2c01d63dba77"
      },
      "execution_count": 11,
      "outputs": [
        {
          "output_type": "stream",
          "name": "stdout",
          "text": [
            "Found 39209 files belonging to 43 classes.\n",
            "Using 31368 files for training.\n"
          ]
        }
      ]
    },
    {
      "cell_type": "code",
      "source": [
        "val_set = tf.keras.utils.image_dataset_from_directory(\n",
        "  '/content/Train',\n",
        "  validation_split=0.2,\n",
        "  subset=\"validation\",\n",
        "  seed=123,\n",
        "  image_size=(img_height, img_width),\n",
        "  batch_size=batch_size)"
      ],
      "metadata": {
        "colab": {
          "base_uri": "https://localhost:8080/"
        },
        "id": "WjOllVTmTG7N",
        "outputId": "d1f9c011-bcb8-487a-eecd-a85025971ba2"
      },
      "execution_count": 12,
      "outputs": [
        {
          "output_type": "stream",
          "name": "stdout",
          "text": [
            "Found 39209 files belonging to 43 classes.\n",
            "Using 7841 files for validation.\n"
          ]
        }
      ]
    },
    {
      "cell_type": "code",
      "source": [
        "import matplotlib.pyplot as plt\n",
        "\n",
        "plt.figure(figsize=(10, 10))\n",
        "for images, labels in train_set.take(1):\n",
        "  for i in range(9):\n",
        "    ax = plt.subplot(3, 3, i + 1)\n",
        "    plt.imshow(images[i].numpy().astype(\"uint8\"))\n",
        "    plt.title(labels[i])\n",
        "    plt.axis(\"off\")"
      ],
      "metadata": {
        "colab": {
          "base_uri": "https://localhost:8080/",
          "height": 829
        },
        "id": "e9qh9y9vX98Z",
        "outputId": "b5439158-ac17-4976-ad04-f91189a9c381"
      },
      "execution_count": 14,
      "outputs": [
        {
          "output_type": "display_data",
          "data": {
            "text/plain": [
              "<Figure size 1000x1000 with 9 Axes>"
            ],
            "image/png": "[encoded data removed]"
          },
          "metadata": {}
        }
      ]
    },
    {
      "cell_type": "code",
      "source": [
        "for image_batch, labels_batch in train_set:\n",
        "  print(image_batch.shape)\n",
        "  print(labels_batch.shape)\n",
        "  break"
      ],
      "metadata": {
        "colab": {
          "base_uri": "https://localhost:8080/"
        },
        "id": "aX2sd5PYYa8s",
        "outputId": "95c0e1fb-6d82-488d-9bed-daa1027afb48"
      },
      "execution_count": 15,
      "outputs": [
        {
          "output_type": "stream",
          "name": "stdout",
          "text": [
            "(32, 32, 32, 3)\n",
            "(32,)\n"
          ]
        }
      ]
    },
    {
      "cell_type": "code",
      "source": [
        "resize_and_rescale = tf.keras.Sequential([\n",
        "    tf.keras.layers.Resizing(img_height, img_width),\n",
        "    tf.keras.layers.Rescaling(1./255)\n",
        "])"
      ],
      "metadata": {
        "id": "s3pbQL701WlF"
      },
      "execution_count": 16,
      "outputs": []
    },
    {
      "cell_type": "code",
      "source": [
        "num_classes = 43\n",
        "\n",
        "model = tf.keras.Sequential([\n",
        "    resize_and_rescale,\n",
        "\n",
        "    tf.keras.layers.Conv2D(filters=32, kernel_size=(3,3), activation='relu', padding='same'),\n",
        "    tf.keras.layers.Conv2D(filters=64, kernel_size=(3,3), activation='relu', padding='same'),\n",
        "    tf.keras.layers.MaxPool2D(pool_size=(2, 2)),\n",
        "    \n",
        "    tf.keras.layers.Conv2D(filters=128, kernel_size=(3,3), activation='relu', padding='same'),\n",
        "    tf.keras.layers.Conv2D(filters=256, kernel_size=(3,3), activation='relu', padding='same'),\n",
        "    tf.keras.layers.MaxPool2D(pool_size=(2, 2)),\n",
        "\n",
        "    tf.keras.layers.Flatten(),\n",
        "    tf.keras.layers.Dense(512, activation='relu'),\n",
        "    tf.keras.layers.Dropout(rate=0.5),\n",
        "\n",
        "    tf.keras.layers.Dense(256, activation='relu'),\n",
        "    tf.keras.layers.Dropout(rate=0.5),\n",
        "    \n",
        "    tf.keras.layers.Dense(num_classes, activation='softmax')\n",
        "])\n"
      ],
      "metadata": {
        "id": "NyYQZq35Y3Q7"
      },
      "execution_count": 30,
      "outputs": []
    },
    {
      "cell_type": "code",
      "source": [
        "model.compile(\n",
        "  optimizer='adam',\n",
        "  loss='sparse_categorical_crossentropy',\n",
        "  metrics=['accuracy'])"
      ],
      "metadata": {
        "id": "nYuJN0s6Z_6I"
      },
      "execution_count": 32,
      "outputs": []
    },
    {
      "cell_type": "code",
      "source": [
        "model.fit(\n",
        "  train_set,\n",
        "  validation_data=val_set,\n",
        "  epochs=10\n",
        ")"
      ],
      "metadata": {
        "colab": {
          "base_uri": "https://localhost:8080/"
        },
        "id": "v02ahE2JcC77",
        "outputId": "c6fcdc9f-afe8-49ea-97e6-723f41878bf2"
      },
      "execution_count": 33,
      "outputs": [
        {
          "output_type": "stream",
          "name": "stdout",
          "text": [
            "Epoch 1/10\n",
            "981/981 [==============================] - 17s 15ms/step - loss: 1.6847 - accuracy: 0.5008 - val_loss: 0.1897 - val_accuracy: 0.9494\n",
            "Epoch 2/10\n",
            "981/981 [==============================] - 14s 14ms/step - loss: 0.2330 - accuracy: 0.9284 - val_loss: 0.0452 - val_accuracy: 0.9893\n",
            "Epoch 3/10\n",
            "981/981 [==============================] - 14s 15ms/step - loss: 0.1041 - accuracy: 0.9697 - val_loss: 0.0443 - val_accuracy: 0.9888\n",
            "Epoch 4/10\n",
            "981/981 [==============================] - 14s 15ms/step - loss: 0.0760 - accuracy: 0.9778 - val_loss: 0.0219 - val_accuracy: 0.9955\n",
            "Epoch 5/10\n",
            "981/981 [==============================] - 14s 15ms/step - loss: 0.0549 - accuracy: 0.9848 - val_loss: 0.0372 - val_accuracy: 0.9921\n",
            "Epoch 6/10\n",
            "981/981 [==============================] - 14s 14ms/step - loss: 0.0542 - accuracy: 0.9844 - val_loss: 0.0262 - val_accuracy: 0.9941\n",
            "Epoch 7/10\n",
            "981/981 [==============================] - 15s 15ms/step - loss: 0.0436 - accuracy: 0.9877 - val_loss: 0.0361 - val_accuracy: 0.9907\n",
            "Epoch 8/10\n",
            "981/981 [==============================] - 15s 15ms/step - loss: 0.0438 - accuracy: 0.9882 - val_loss: 0.0219 - val_accuracy: 0.9953\n",
            "Epoch 9/10\n",
            "981/981 [==============================] - 15s 15ms/step - loss: 0.0431 - accuracy: 0.9891 - val_loss: 0.0218 - val_accuracy: 0.9952\n",
            "Epoch 10/10\n",
            "981/981 [==============================] - 18s 18ms/step - loss: 0.0308 - accuracy: 0.9917 - val_loss: 0.0321 - val_accuracy: 0.9934\n"
          ]
        },
        {
          "output_type": "execute_result",
          "data": {
            "text/plain": [
              "<keras.callbacks.History at 0x7f0b28c84790>"
            ]
          },
          "metadata": {},
          "execution_count": 33
        }
      ]
    },
    {
      "cell_type": "code",
      "source": [
        "# testing accuracy on test dataset\n",
        "from sklearn.metrics import accuracy_score\n",
        "from PIL import Image\n",
        "\n",
        "# Importing the test dataset\n",
        "y_test = pd.read_csv('/content/Test.csv')\n",
        "\n",
        "labels = y_test[\"ClassId\"].values\n",
        "imgs = y_test[\"Path\"].values\n",
        "\n",
        "data=[]\n",
        "\n",
        "# Retreiving the images\n",
        "with tf.device('/GPU:0'):\n",
        "    for img in imgs:\n",
        "        image = Image.open('/content/'+img)\n",
        "        image = image.resize([32, 32])\n",
        "        data.append(np.array(image))\n",
        "\n",
        "X_test=np.array(data)"
      ],
      "metadata": {
        "id": "MlzDR0OI8JgE"
      },
      "execution_count": 41,
      "outputs": []
    },
    {
      "cell_type": "code",
      "source": [
        "model.evaluate(X_test, labels)"
      ],
      "metadata": {
        "id": "0tHdrEQH7vOv",
        "outputId": "66fd4d1e-b4ee-40f0-c9f3-4c3a6deb48f3",
        "colab": {
          "base_uri": "https://localhost:8080/"
        }
      },
      "execution_count": 43,
      "outputs": [
        {
          "output_type": "stream",
          "name": "stdout",
          "text": [
            "395/395 [==============================] - 2s 4ms/step - loss: 4.1898 - accuracy: 0.0309\n"
          ]
        },
        {
          "output_type": "execute_result",
          "data": {
            "text/plain": [
              "[4.189760684967041, 0.030878860503435135]"
            ]
          },
          "metadata": {},
          "execution_count": 43
        }
      ]
    }
  ]
}