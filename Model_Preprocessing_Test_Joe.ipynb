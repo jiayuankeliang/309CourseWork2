{
  "nbformat": 4,
  "nbformat_minor": 0,
  "metadata": {
    "colab": {
      "provenance": []
    },
    "kernelspec": {
      "name": "python3",
      "display_name": "Python 3"
    },
    "language_info": {
      "name": "python"
    },
    "accelerator": "GPU",
    "gpuClass": "standard"
  },
  "cells": [
    {
      "cell_type": "code",
      "source": [
        "!pip install -q kaggle"
      ],
      "metadata": {
        "id": "6m_8g1siiqhK"
      },
      "execution_count": 1,
      "outputs": []
    },
    {
      "cell_type": "code",
      "source": [
        "from google.colab import files\n",
        "files.upload()"
      ],
      "metadata": {
        "id": "qZy_54RRi2rv",
        "outputId": "c92b18cd-c524-454d-ebf3-6fc94b29982c",
        "colab": {
          "base_uri": "https://localhost:8080/",
          "height": 90
        }
      },
      "execution_count": 2,
      "outputs": [
        {
          "output_type": "display_data",
          "data": {
            "text/plain": [
              "<IPython.core.display.HTML object>"
            ],
            "text/html": [
              "\n",
              "     <input type=\"file\" id=\"files-5546027f-631d-4e9b-8bfb-312915b420d7\" name=\"files[]\" multiple disabled\n",
              "        style=\"border:none\" />\n",
              "     <output id=\"result-5546027f-631d-4e9b-8bfb-312915b420d7\">\n",
              "      Upload widget is only available when the cell has been executed in the\n",
              "      current browser session. Please rerun this cell to enable.\n",
              "      </output>\n",
              "      <script>// Copyright 2017 Google LLC\n",
              "//\n",
              "// Licensed under the Apache License, Version 2.0 (the \"License\");\n",
              "// you may not use this file except in compliance with the License.\n",
              "// You may obtain a copy of the License at\n",
              "//\n",
              "//      http://www.apache.org/licenses/LICENSE-2.0\n",
              "//\n",
              "// Unless required by applicable law or agreed to in writing, software\n",
              "// distributed under the License is distributed on an \"AS IS\" BASIS,\n",
              "// WITHOUT WARRANTIES OR CONDITIONS OF ANY KIND, either express or implied.\n",
              "// See the License for the specific language governing permissions and\n",
              "// limitations under the License.\n",
              "\n",
              "/**\n",
              " * @fileoverview Helpers for google.colab Python module.\n",
              " */\n",
              "(function(scope) {\n",
              "function span(text, styleAttributes = {}) {\n",
              "  const element = document.createElement('span');\n",
              "  element.textContent = text;\n",
              "  for (const key of Object.keys(styleAttributes)) {\n",
              "    element.style[key] = styleAttributes[key];\n",
              "  }\n",
              "  return element;\n",
              "}\n",
              "\n",
              "// Max number of bytes which will be uploaded at a time.\n",
              "const MAX_PAYLOAD_SIZE = 100 * 1024;\n",
              "\n",
              "function _uploadFiles(inputId, outputId) {\n",
              "  const steps = uploadFilesStep(inputId, outputId);\n",
              "  const outputElement = document.getElementById(outputId);\n",
              "  // Cache steps on the outputElement to make it available for the next call\n",
              "  // to uploadFilesContinue from Python.\n",
              "  outputElement.steps = steps;\n",
              "\n",
              "  return _uploadFilesContinue(outputId);\n",
              "}\n",
              "\n",
              "// This is roughly an async generator (not supported in the browser yet),\n",
              "// where there are multiple asynchronous steps and the Python side is going\n",
              "// to poll for completion of each step.\n",
              "// This uses a Promise to block the python side on completion of each step,\n",
              "// then passes the result of the previous step as the input to the next step.\n",
              "function _uploadFilesContinue(outputId) {\n",
              "  const outputElement = document.getElementById(outputId);\n",
              "  const steps = outputElement.steps;\n",
              "\n",
              "  const next = steps.next(outputElement.lastPromiseValue);\n",
              "  return Promise.resolve(next.value.promise).then((value) => {\n",
              "    // Cache the last promise value to make it available to the next\n",
              "    // step of the generator.\n",
              "    outputElement.lastPromiseValue = value;\n",
              "    return next.value.response;\n",
              "  });\n",
              "}\n",
              "\n",
              "/**\n",
              " * Generator function which is called between each async step of the upload\n",
              " * process.\n",
              " * @param {string} inputId Element ID of the input file picker element.\n",
              " * @param {string} outputId Element ID of the output display.\n",
              " * @return {!Iterable<!Object>} Iterable of next steps.\n",
              " */\n",
              "function* uploadFilesStep(inputId, outputId) {\n",
              "  const inputElement = document.getElementById(inputId);\n",
              "  inputElement.disabled = false;\n",
              "\n",
              "  const outputElement = document.getElementById(outputId);\n",
              "  outputElement.innerHTML = '';\n",
              "\n",
              "  const pickedPromise = new Promise((resolve) => {\n",
              "    inputElement.addEventListener('change', (e) => {\n",
              "      resolve(e.target.files);\n",
              "    });\n",
              "  });\n",
              "\n",
              "  const cancel = document.createElement('button');\n",
              "  inputElement.parentElement.appendChild(cancel);\n",
              "  cancel.textContent = 'Cancel upload';\n",
              "  const cancelPromise = new Promise((resolve) => {\n",
              "    cancel.onclick = () => {\n",
              "      resolve(null);\n",
              "    };\n",
              "  });\n",
              "\n",
              "  // Wait for the user to pick the files.\n",
              "  const files = yield {\n",
              "    promise: Promise.race([pickedPromise, cancelPromise]),\n",
              "    response: {\n",
              "      action: 'starting',\n",
              "    }\n",
              "  };\n",
              "\n",
              "  cancel.remove();\n",
              "\n",
              "  // Disable the input element since further picks are not allowed.\n",
              "  inputElement.disabled = true;\n",
              "\n",
              "  if (!files) {\n",
              "    return {\n",
              "      response: {\n",
              "        action: 'complete',\n",
              "      }\n",
              "    };\n",
              "  }\n",
              "\n",
              "  for (const file of files) {\n",
              "    const li = document.createElement('li');\n",
              "    li.append(span(file.name, {fontWeight: 'bold'}));\n",
              "    li.append(span(\n",
              "        `(${file.type || 'n/a'}) - ${file.size} bytes, ` +\n",
              "        `last modified: ${\n",
              "            file.lastModifiedDate ? file.lastModifiedDate.toLocaleDateString() :\n",
              "                                    'n/a'} - `));\n",
              "    const percent = span('0% done');\n",
              "    li.appendChild(percent);\n",
              "\n",
              "    outputElement.appendChild(li);\n",
              "\n",
              "    const fileDataPromise = new Promise((resolve) => {\n",
              "      const reader = new FileReader();\n",
              "      reader.onload = (e) => {\n",
              "        resolve(e.target.result);\n",
              "      };\n",
              "      reader.readAsArrayBuffer(file);\n",
              "    });\n",
              "    // Wait for the data to be ready.\n",
              "    let fileData = yield {\n",
              "      promise: fileDataPromise,\n",
              "      response: {\n",
              "        action: 'continue',\n",
              "      }\n",
              "    };\n",
              "\n",
              "    // Use a chunked sending to avoid message size limits. See b/62115660.\n",
              "    let position = 0;\n",
              "    do {\n",
              "      const length = Math.min(fileData.byteLength - position, MAX_PAYLOAD_SIZE);\n",
              "      const chunk = new Uint8Array(fileData, position, length);\n",
              "      position += length;\n",
              "\n",
              "      const base64 = btoa(String.fromCharCode.apply(null, chunk));\n",
              "      yield {\n",
              "        response: {\n",
              "          action: 'append',\n",
              "          file: file.name,\n",
              "          data: base64,\n",
              "        },\n",
              "      };\n",
              "\n",
              "      let percentDone = fileData.byteLength === 0 ?\n",
              "          100 :\n",
              "          Math.round((position / fileData.byteLength) * 100);\n",
              "      percent.textContent = `${percentDone}% done`;\n",
              "\n",
              "    } while (position < fileData.byteLength);\n",
              "  }\n",
              "\n",
              "  // All done.\n",
              "  yield {\n",
              "    response: {\n",
              "      action: 'complete',\n",
              "    }\n",
              "  };\n",
              "}\n",
              "\n",
              "scope.google = scope.google || {};\n",
              "scope.google.colab = scope.google.colab || {};\n",
              "scope.google.colab._files = {\n",
              "  _uploadFiles,\n",
              "  _uploadFilesContinue,\n",
              "};\n",
              "})(self);\n",
              "</script> "
            ]
          },
          "metadata": {}
        },
        {
          "output_type": "stream",
          "name": "stdout",
          "text": [
            "Saving kaggle.json to kaggle.json\n"
          ]
        },
        {
          "output_type": "execute_result",
          "data": {
            "text/plain": [
              "{'kaggle.json': b'{\"username\":\"joeprickett\",\"key\":\"1568083b2d1930885bee88cd8ebd901e\"}'}"
            ]
          },
          "metadata": {},
          "execution_count": 2
        }
      ]
    },
    {
      "cell_type": "code",
      "source": [
        "! mkdir ~/.kaggle"
      ],
      "metadata": {
        "id": "kKPmWHnnjEkK"
      },
      "execution_count": 3,
      "outputs": []
    },
    {
      "cell_type": "code",
      "source": [
        "! cp kaggle.json ~/.kaggle/"
      ],
      "metadata": {
        "id": "L20RIpYujInd"
      },
      "execution_count": 4,
      "outputs": []
    },
    {
      "cell_type": "code",
      "source": [
        "! chmod 600  ~/.kaggle/kaggle.json"
      ],
      "metadata": {
        "id": "Ia6TVFpejQxD"
      },
      "execution_count": 5,
      "outputs": []
    },
    {
      "cell_type": "code",
      "source": [
        "!kaggle datasets download meowmeowmeowmeowmeow/gtsrb-german-traffic-sign"
      ],
      "metadata": {
        "id": "FlkUa4J4jTu8",
        "outputId": "a3210fbf-04e1-492d-b7d7-b51ab2a068db",
        "colab": {
          "base_uri": "https://localhost:8080/"
        }
      },
      "execution_count": 6,
      "outputs": [
        {
          "output_type": "stream",
          "name": "stdout",
          "text": [
            "Downloading gtsrb-german-traffic-sign.zip to /content\n",
            "100% 610M/612M [00:28<00:00, 22.8MB/s]\n",
            "100% 612M/612M [00:28<00:00, 22.6MB/s]\n"
          ]
        }
      ]
    },
    {
      "cell_type": "code",
      "source": [
        "import zipfile\n",
        "\n",
        "filename = '/content/gtsrb-german-traffic-sign.zip'\n",
        "\n",
        "with zipfile.ZipFile(filename, 'r') as zip_ref:\n",
        "  zip_ref.extractall('.')"
      ],
      "metadata": {
        "id": "QXHQn0rglXrg"
      },
      "execution_count": 7,
      "outputs": []
    },
    {
      "cell_type": "code",
      "execution_count": 8,
      "metadata": {
        "id": "JgXk2l0Nq9j8"
      },
      "outputs": [],
      "source": [
        "import numpy as np\n",
        "import os\n",
        "from PIL import Image\n",
        "import tensorflow as tf\n",
        "import pandas as pd\n",
        "from sklearn.model_selection import train_test_split\n",
        "import matplotlib.pyplot as plt"
      ]
    },
    {
      "cell_type": "code",
      "source": [
        "img_height = 32\n",
        "img_width = 32\n",
        "batch_size = 32"
      ],
      "metadata": {
        "id": "HiNvNh9eJVWq"
      },
      "execution_count": 9,
      "outputs": []
    },
    {
      "cell_type": "code",
      "source": [
        "data = []\n",
        "labels = []\n",
        "classes = 43\n",
        "\n",
        "with tf.device('/GPU:0'):\n",
        "  for i in range(classes):\n",
        "      path = os.path.join('/content/Train',str(i))\n",
        "      images = os.listdir(path)\n",
        "\n",
        "      for image in images:\n",
        "        image = Image.open(os.path.join(path, image))\n",
        "        image = image.resize((img_height,img_width))\n",
        "        image = np.array(image)\n",
        "        data.append(image)\n",
        "        labels.append(i)\n",
        "\n",
        "data = np.array(data)\n",
        "labels = np.array(labels)"
      ],
      "metadata": {
        "id": "aG8sOsXNJduV"
      },
      "execution_count": 10,
      "outputs": []
    },
    {
      "cell_type": "code",
      "source": [
        "X_train, X_val, y_train, y_val = train_test_split(data, labels, test_size=0.2, random_state=42)"
      ],
      "metadata": {
        "id": "a64qsuBm30tx"
      },
      "execution_count": 11,
      "outputs": []
    },
    {
      "cell_type": "code",
      "source": [
        "X_train.shape, y_train.shape"
      ],
      "metadata": {
        "id": "unMF4o8nnk2B",
        "outputId": "c4e7ac93-0c8b-4811-81ad-5b2b18a1d504",
        "colab": {
          "base_uri": "https://localhost:8080/"
        }
      },
      "execution_count": 12,
      "outputs": [
        {
          "output_type": "execute_result",
          "data": {
            "text/plain": [
              "((31367, 32, 32, 3), (31367,))"
            ]
          },
          "metadata": {},
          "execution_count": 12
        }
      ]
    },
    {
      "cell_type": "code",
      "source": [
        "X_val.shape, y_val.shape"
      ],
      "metadata": {
        "id": "6aCTlqYAnv3n",
        "outputId": "6d6715c9-9580-4411-b174-4594b3b3d17d",
        "colab": {
          "base_uri": "https://localhost:8080/"
        }
      },
      "execution_count": 13,
      "outputs": [
        {
          "output_type": "execute_result",
          "data": {
            "text/plain": [
              "((7842, 32, 32, 3), (7842,))"
            ]
          },
          "metadata": {},
          "execution_count": 13
        }
      ]
    },
    {
      "cell_type": "code",
      "source": [
        "data_augmentation = tf.keras.Sequential(\n",
        "    [\n",
        "        tf.keras.layers.RandomRotation(0.10), # Don't want to do too extreme rotation and want to avoid flipping\n",
        "        tf.keras.layers.RandomZoom(0.15),\n",
        "        tf.keras.layers.RandomHeight(0.05),\n",
        "        tf.keras.layers.RandomWidth(0.05),\n",
        "        tf.keras.layers.RandomBrightness([0,0.2]),\n",
        "        tf.keras.layers.Resizing(img_height, img_width),\n",
        "        tf.keras.layers.Rescaling(1./255)\n",
        "     \n",
        "    ]\n",
        ")"
      ],
      "metadata": {
        "id": "MhMaPSSd-8Y-"
      },
      "execution_count": 15,
      "outputs": []
    },
    {
      "cell_type": "code",
      "source": [
        "model = tf.keras.Sequential([\n",
        "    tf.keras.layers.InputLayer(input_shape=(img_height, img_width, 3)),\n",
        "    data_augmentation,\n",
        "    \n",
        "    tf.keras.layers.Conv2D(filters=32, kernel_size=(3,3), activation='relu'), \n",
        "    tf.keras.layers.Conv2D(filters=64, kernel_size=(3,3), activation='relu'),\n",
        "    tf.keras.layers.MaxPool2D(pool_size=(2, 2)),\n",
        "    \n",
        "    tf.keras.layers.Conv2D(filters=128, kernel_size=(3,3), activation='relu'),\n",
        "    tf.keras.layers.Conv2D(filters=256, kernel_size=(3,3), activation='relu'),\n",
        "    tf.keras.layers.MaxPool2D(pool_size=(2, 2)),\n",
        "\n",
        "    tf.keras.layers.Flatten(),\n",
        "    tf.keras.layers.Dense(512, activation='relu'),\n",
        "    tf.keras.layers.Dropout(rate=0.5),\n",
        "\n",
        "    tf.keras.layers.Dense(256, activation='relu'),\n",
        "    tf.keras.layers.Dropout(rate=0.5),\n",
        "    \n",
        "    tf.keras.layers.Dense(43, activation='softmax')\n",
        "])"
      ],
      "metadata": {
        "id": "NyYQZq35Y3Q7"
      },
      "execution_count": 16,
      "outputs": []
    },
    {
      "cell_type": "code",
      "source": [
        "model.summary()"
      ],
      "metadata": {
        "id": "pma2yA7UgpqR",
        "outputId": "559557ab-35a4-447a-e98e-b008e02fa377",
        "colab": {
          "base_uri": "https://localhost:8080/"
        }
      },
      "execution_count": 17,
      "outputs": [
        {
          "output_type": "stream",
          "name": "stdout",
          "text": [
            "Model: \"sequential_1\"\n",
            "_________________________________________________________________\n",
            " Layer (type)                Output Shape              Param #   \n",
            "=================================================================\n",
            " sequential (Sequential)     (None, 32, 32, 3)         0         \n",
            "                                                                 \n",
            " conv2d (Conv2D)             (None, 30, 30, 32)        896       \n",
            "                                                                 \n",
            " conv2d_1 (Conv2D)           (None, 28, 28, 64)        18496     \n",
            "                                                                 \n",
            " max_pooling2d (MaxPooling2D  (None, 14, 14, 64)       0         \n",
            " )                                                               \n",
            "                                                                 \n",
            " conv2d_2 (Conv2D)           (None, 12, 12, 128)       73856     \n",
            "                                                                 \n",
            " conv2d_3 (Conv2D)           (None, 10, 10, 256)       295168    \n",
            "                                                                 \n",
            " max_pooling2d_1 (MaxPooling  (None, 5, 5, 256)        0         \n",
            " 2D)                                                             \n",
            "                                                                 \n",
            " flatten (Flatten)           (None, 6400)              0         \n",
            "                                                                 \n",
            " dense (Dense)               (None, 512)               3277312   \n",
            "                                                                 \n",
            " dropout (Dropout)           (None, 512)               0         \n",
            "                                                                 \n",
            " dense_1 (Dense)             (None, 256)               131328    \n",
            "                                                                 \n",
            " dropout_1 (Dropout)         (None, 256)               0         \n",
            "                                                                 \n",
            " dense_2 (Dense)             (None, 43)                11051     \n",
            "                                                                 \n",
            "=================================================================\n",
            "Total params: 3,808,107\n",
            "Trainable params: 3,808,107\n",
            "Non-trainable params: 0\n",
            "_________________________________________________________________\n"
          ]
        }
      ]
    },
    {
      "cell_type": "code",
      "source": [
        "model.compile(\n",
        "  optimizer='adam',\n",
        "  loss='sparse_categorical_crossentropy',\n",
        "  metrics=['accuracy'])"
      ],
      "metadata": {
        "id": "nYuJN0s6Z_6I"
      },
      "execution_count": 18,
      "outputs": []
    },
    {
      "cell_type": "code",
      "source": [
        "checkpoint_callback = tf.keras.callbacks.ModelCheckpoint(\n",
        "    filepath='best_model.h5',\n",
        "    monitor='val_loss',\n",
        "    save_best_only=True\n",
        ")"
      ],
      "metadata": {
        "id": "vu9jlRw2kU38"
      },
      "execution_count": 19,
      "outputs": []
    },
    {
      "cell_type": "code",
      "source": [
        "with tf.device('/GPU:0'):\n",
        "  history = model.fit(X_train, y_train, validation_data=(X_val, y_val), epochs=50, callbacks=[checkpoint_callback])"
      ],
      "metadata": {
        "colab": {
          "base_uri": "https://localhost:8080/"
        },
        "id": "v02ahE2JcC77",
        "outputId": "0611593f-0528-4049-9ea8-e384bdbe695e"
      },
      "execution_count": 20,
      "outputs": [
        {
          "output_type": "stream",
          "name": "stdout",
          "text": [
            "Epoch 1/50\n",
            "981/981 [==============================] - 23s 11ms/step - loss: 2.1936 - accuracy: 0.3502 - val_loss: 0.8228 - val_accuracy: 0.7183\n",
            "Epoch 2/50\n",
            "981/981 [==============================] - 9s 9ms/step - loss: 0.7571 - accuracy: 0.7537 - val_loss: 0.1960 - val_accuracy: 0.9464\n",
            "Epoch 3/50\n",
            "981/981 [==============================] - 9s 9ms/step - loss: 0.3578 - accuracy: 0.8862 - val_loss: 0.0870 - val_accuracy: 0.9746\n",
            "Epoch 4/50\n",
            "981/981 [==============================] - 9s 9ms/step - loss: 0.2434 - accuracy: 0.9271 - val_loss: 0.0528 - val_accuracy: 0.9842\n",
            "Epoch 5/50\n",
            "981/981 [==============================] - 9s 9ms/step - loss: 0.1876 - accuracy: 0.9443 - val_loss: 0.0408 - val_accuracy: 0.9867\n",
            "Epoch 6/50\n",
            "981/981 [==============================] - 10s 10ms/step - loss: 0.1603 - accuracy: 0.9509 - val_loss: 0.0417 - val_accuracy: 0.9861\n",
            "Epoch 7/50\n",
            "981/981 [==============================] - 9s 9ms/step - loss: 0.1374 - accuracy: 0.9594 - val_loss: 0.0472 - val_accuracy: 0.9878\n",
            "Epoch 8/50\n",
            "981/981 [==============================] - 10s 10ms/step - loss: 0.1345 - accuracy: 0.9596 - val_loss: 0.0361 - val_accuracy: 0.9895\n",
            "Epoch 9/50\n",
            "981/981 [==============================] - 9s 9ms/step - loss: 0.1229 - accuracy: 0.9641 - val_loss: 0.0373 - val_accuracy: 0.9887\n",
            "Epoch 10/50\n",
            "981/981 [==============================] - 9s 9ms/step - loss: 0.1061 - accuracy: 0.9684 - val_loss: 0.0265 - val_accuracy: 0.9935\n",
            "Epoch 11/50\n",
            "981/981 [==============================] - 9s 9ms/step - loss: 0.1053 - accuracy: 0.9703 - val_loss: 0.0230 - val_accuracy: 0.9929\n",
            "Epoch 12/50\n",
            "981/981 [==============================] - 9s 9ms/step - loss: 0.0982 - accuracy: 0.9726 - val_loss: 0.0259 - val_accuracy: 0.9930\n",
            "Epoch 13/50\n",
            "981/981 [==============================] - 9s 9ms/step - loss: 0.0951 - accuracy: 0.9717 - val_loss: 0.0331 - val_accuracy: 0.9902\n",
            "Epoch 14/50\n",
            "981/981 [==============================] - 9s 9ms/step - loss: 0.0999 - accuracy: 0.9712 - val_loss: 0.0279 - val_accuracy: 0.9912\n",
            "Epoch 15/50\n",
            "981/981 [==============================] - 9s 9ms/step - loss: 0.0880 - accuracy: 0.9749 - val_loss: 0.0230 - val_accuracy: 0.9932\n",
            "Epoch 16/50\n",
            "981/981 [==============================] - 9s 9ms/step - loss: 0.0777 - accuracy: 0.9777 - val_loss: 0.0196 - val_accuracy: 0.9943\n",
            "Epoch 17/50\n",
            "981/981 [==============================] - 9s 9ms/step - loss: 0.0907 - accuracy: 0.9747 - val_loss: 0.0466 - val_accuracy: 0.9901\n",
            "Epoch 18/50\n",
            "981/981 [==============================] - 9s 9ms/step - loss: 0.0869 - accuracy: 0.9760 - val_loss: 0.0225 - val_accuracy: 0.9938\n",
            "Epoch 19/50\n",
            "981/981 [==============================] - 9s 9ms/step - loss: 0.0872 - accuracy: 0.9753 - val_loss: 0.0203 - val_accuracy: 0.9949\n",
            "Epoch 20/50\n",
            "981/981 [==============================] - 10s 10ms/step - loss: 0.0758 - accuracy: 0.9780 - val_loss: 0.0260 - val_accuracy: 0.9944\n",
            "Epoch 21/50\n",
            "981/981 [==============================] - 9s 9ms/step - loss: 0.0839 - accuracy: 0.9772 - val_loss: 0.0249 - val_accuracy: 0.9926\n",
            "Epoch 22/50\n",
            "981/981 [==============================] - 9s 9ms/step - loss: 0.0824 - accuracy: 0.9786 - val_loss: 0.0154 - val_accuracy: 0.9955\n",
            "Epoch 23/50\n",
            "981/981 [==============================] - 9s 9ms/step - loss: 0.0806 - accuracy: 0.9773 - val_loss: 0.0283 - val_accuracy: 0.9940\n",
            "Epoch 24/50\n",
            "981/981 [==============================] - 9s 9ms/step - loss: 0.0751 - accuracy: 0.9800 - val_loss: 0.0192 - val_accuracy: 0.9952\n",
            "Epoch 25/50\n",
            "981/981 [==============================] - 9s 10ms/step - loss: 0.0771 - accuracy: 0.9794 - val_loss: 0.0355 - val_accuracy: 0.9906\n",
            "Epoch 26/50\n",
            "981/981 [==============================] - 9s 9ms/step - loss: 0.0786 - accuracy: 0.9791 - val_loss: 0.0297 - val_accuracy: 0.9927\n",
            "Epoch 27/50\n",
            "981/981 [==============================] - 10s 10ms/step - loss: 0.0746 - accuracy: 0.9811 - val_loss: 0.0244 - val_accuracy: 0.9936\n",
            "Epoch 28/50\n",
            "981/981 [==============================] - 10s 10ms/step - loss: 0.0756 - accuracy: 0.9795 - val_loss: 0.0250 - val_accuracy: 0.9943\n",
            "Epoch 29/50\n",
            "981/981 [==============================] - 9s 9ms/step - loss: 0.0839 - accuracy: 0.9786 - val_loss: 0.0262 - val_accuracy: 0.9941\n",
            "Epoch 30/50\n",
            "981/981 [==============================] - 9s 9ms/step - loss: 0.0752 - accuracy: 0.9806 - val_loss: 0.0196 - val_accuracy: 0.9959\n",
            "Epoch 31/50\n",
            "981/981 [==============================] - 9s 9ms/step - loss: 0.0699 - accuracy: 0.9818 - val_loss: 0.0196 - val_accuracy: 0.9949\n",
            "Epoch 32/50\n",
            "981/981 [==============================] - 9s 9ms/step - loss: 0.0606 - accuracy: 0.9843 - val_loss: 0.0148 - val_accuracy: 0.9957\n",
            "Epoch 33/50\n",
            "981/981 [==============================] - 9s 10ms/step - loss: 0.0690 - accuracy: 0.9813 - val_loss: 0.0188 - val_accuracy: 0.9963\n",
            "Epoch 34/50\n",
            "981/981 [==============================] - 8s 9ms/step - loss: 0.0719 - accuracy: 0.9815 - val_loss: 0.0250 - val_accuracy: 0.9934\n",
            "Epoch 35/50\n",
            "981/981 [==============================] - 9s 9ms/step - loss: 0.0658 - accuracy: 0.9834 - val_loss: 0.0250 - val_accuracy: 0.9944\n",
            "Epoch 36/50\n",
            "981/981 [==============================] - 10s 10ms/step - loss: 0.0658 - accuracy: 0.9822 - val_loss: 0.0231 - val_accuracy: 0.9938\n",
            "Epoch 37/50\n",
            "981/981 [==============================] - 9s 9ms/step - loss: 0.0762 - accuracy: 0.9808 - val_loss: 0.0320 - val_accuracy: 0.9929\n",
            "Epoch 38/50\n",
            "981/981 [==============================] - 9s 9ms/step - loss: 0.0833 - accuracy: 0.9806 - val_loss: 0.0285 - val_accuracy: 0.9922\n",
            "Epoch 39/50\n",
            "981/981 [==============================] - 9s 9ms/step - loss: 0.0577 - accuracy: 0.9848 - val_loss: 0.0178 - val_accuracy: 0.9960\n",
            "Epoch 40/50\n",
            "981/981 [==============================] - 9s 9ms/step - loss: 0.0654 - accuracy: 0.9830 - val_loss: 0.0202 - val_accuracy: 0.9950\n",
            "Epoch 41/50\n",
            "981/981 [==============================] - 8s 9ms/step - loss: 0.0659 - accuracy: 0.9836 - val_loss: 0.0185 - val_accuracy: 0.9954\n",
            "Epoch 42/50\n",
            "981/981 [==============================] - 10s 10ms/step - loss: 0.0686 - accuracy: 0.9828 - val_loss: 0.0241 - val_accuracy: 0.9954\n",
            "Epoch 43/50\n",
            "981/981 [==============================] - 9s 9ms/step - loss: 0.0696 - accuracy: 0.9833 - val_loss: 0.0212 - val_accuracy: 0.9943\n",
            "Epoch 44/50\n",
            "981/981 [==============================] - 9s 9ms/step - loss: 0.0664 - accuracy: 0.9833 - val_loss: 0.0212 - val_accuracy: 0.9946\n",
            "Epoch 45/50\n",
            "981/981 [==============================] - 8s 9ms/step - loss: 0.0668 - accuracy: 0.9835 - val_loss: 0.0341 - val_accuracy: 0.9915\n",
            "Epoch 46/50\n",
            "981/981 [==============================] - 9s 9ms/step - loss: 0.0674 - accuracy: 0.9828 - val_loss: 0.0284 - val_accuracy: 0.9936\n",
            "Epoch 47/50\n",
            "981/981 [==============================] - 9s 9ms/step - loss: 0.0771 - accuracy: 0.9828 - val_loss: 0.0162 - val_accuracy: 0.9967\n",
            "Epoch 48/50\n",
            "981/981 [==============================] - 8s 9ms/step - loss: 0.0559 - accuracy: 0.9852 - val_loss: 0.0231 - val_accuracy: 0.9967\n",
            "Epoch 49/50\n",
            "981/981 [==============================] - 9s 9ms/step - loss: 0.0773 - accuracy: 0.9820 - val_loss: 0.0120 - val_accuracy: 0.9974\n",
            "Epoch 50/50\n",
            "981/981 [==============================] - 9s 9ms/step - loss: 0.0689 - accuracy: 0.9843 - val_loss: 0.0250 - val_accuracy: 0.9940\n"
          ]
        }
      ]
    },
    {
      "cell_type": "code",
      "source": [
        "# Plot training & validation accuracy values\n",
        "plt.plot(history.history['accuracy'])\n",
        "plt.plot(history.history['val_accuracy'])\n",
        "plt.title('Model accuracy')\n",
        "plt.ylabel('Accuracy')\n",
        "plt.xlabel('Epoch')\n",
        "plt.legend(['Train', 'Val'], loc='upper left')\n",
        "plt.show()\n",
        "\n",
        "# Plot training & validation loss values\n",
        "plt.plot(history.history['loss'])\n",
        "plt.plot(history.history['val_loss'])\n",
        "plt.title('Model loss')\n",
        "plt.ylabel('Loss')\n",
        "plt.xlabel('Epoch')\n",
        "plt.legend(['Train', 'Val'], loc='upper left')\n",
        "plt.show()"
      ],
      "metadata": {
        "id": "RdDJWvs-x5an",
        "colab": {
          "base_uri": "https://localhost:8080/",
          "height": 927
        },
        "outputId": "50a3cdf5-517f-40cb-8ba4-cf61c20c938b"
      },
      "execution_count": 21,
      "outputs": [
        {
          "output_type": "display_data",
          "data": {
            "text/plain": [
              "<Figure size 640x480 with 1 Axes>"
            ],
            "image/png": "[encoded data removed]"
          },
          "metadata": {}
        },
        {
          "output_type": "display_data",
          "data": {
            "text/plain": [
              "<Figure size 640x480 with 1 Axes>"
            ],
            "image/png": "[encoded data removed]"
          },
          "metadata": {}
        }
      ]
    },
    {
      "cell_type": "code",
      "source": [
        "test = pd.read_csv('/content/Test.csv')\n",
        "\n",
        "y_test = test[\"ClassId\"].values\n",
        "imgs = test[\"Path\"].values\n",
        "\n",
        "data=[]\n",
        "\n",
        "with tf.device('/GPU:0'):\n",
        "    for img in imgs:\n",
        "        image = Image.open('/content/'+img)\n",
        "        image = image.resize([img_height, img_width])\n",
        "        data.append(np.array(image))\n",
        "\n",
        "X_test=np.array(data)"
      ],
      "metadata": {
        "id": "MlzDR0OI8JgE"
      },
      "execution_count": 22,
      "outputs": []
    },
    {
      "cell_type": "code",
      "source": [
        "model = tf.keras.models.load_model('best_model.h5')"
      ],
      "metadata": {
        "id": "GHZIKNeHgPQg"
      },
      "execution_count": 23,
      "outputs": []
    },
    {
      "cell_type": "code",
      "source": [
        "# X_test = X_test/255\n",
        "model_predict = model.predict(X_test)\n",
        "\n",
        "correct_predict = []\n",
        "incorrect_predict = []\n",
        "\n",
        "for i in range(len(model_predict)):\n",
        "  label = np.argmax(model_predict[i])\n",
        "  if label == y_test[i]:\n",
        "    correct_predict.append(i)\n",
        "  else:\n",
        "    incorrect_predict.append(i)\n",
        "\n",
        "Accuracy = len(correct_predict) / (len(correct_predict) + len(incorrect_predict))\n",
        "print('Accuracy: {}'.format(Accuracy))"
      ],
      "metadata": {
        "id": "yW_Zgr3qr0-D",
        "colab": {
          "base_uri": "https://localhost:8080/"
        },
        "outputId": "1824be97-88e0-4846-dc7b-b394669e186e"
      },
      "execution_count": 24,
      "outputs": [
        {
          "output_type": "stream",
          "name": "stdout",
          "text": [
            "395/395 [==============================] - 1s 3ms/step\n",
            "accuracay: 0.9699920823436263\n"
          ]
        }
      ]
    },
    {
      "cell_type": "markdown",
      "source": [],
      "metadata": {
        "id": "K3cxr8dbdbfX"
      }
    }
  ]
}