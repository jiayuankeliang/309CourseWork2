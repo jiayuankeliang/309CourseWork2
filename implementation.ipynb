{
  "nbformat": 4,
  "nbformat_minor": 0,
  "metadata": {
    "colab": {
      "provenance": [],
      "mount_file_id": "https://github.com/jiayuankeliang/309CourseWork2/blob/main/end_to_end.ipynb",
      "authorship_tag": "ABX9TyP9mspw5QxmjD3Rd8XYtDot",
      "include_colab_link": true
    },
    "kernelspec": {
      "name": "python3",
      "display_name": "Python 3"
    },
    "language_info": {
      "name": "python"
    },
    "accelerator": "GPU",
    "gpuClass": "standard"
  },
  "cells": [
    {
      "cell_type": "markdown",
      "metadata": {
        "id": "view-in-github",
        "colab_type": "text"
      },
      "source": [
        "<a href=\"https://colab.research.google.com/github/jiayuankeliang/309CourseWork2/blob/main/implementation.ipynb\" target=\"_parent\"><img src=\"https://colab.research.google.com/assets/colab-badge.svg\" alt=\"Open In Colab\"/></a>"
      ]
    },
    {
      "cell_type": "code",
      "source": [
        "!pip install -q kaggle"
      ],
      "metadata": {
        "id": "6m_8g1siiqhK"
      },
      "execution_count": 5,
      "outputs": []
    },
    {
      "cell_type": "code",
      "source": [
        "from google.colab import files\n",
        "files.upload()"
      ],
      "metadata": {
        "id": "qZy_54RRi2rv",
        "outputId": "6c0ba27d-7f4f-4f27-ef09-c67949e20ad3",
        "colab": {
          "base_uri": "https://localhost:8080/",
          "height": 95
        }
      },
      "execution_count": 6,
      "outputs": [
        {
          "output_type": "display_data",
          "data": {
            "text/plain": [
              "<IPython.core.display.HTML object>"
            ],
            "text/html": [
              "\n",
              "     <input type=\"file\" id=\"files-9f66023b-8b16-421c-b381-0433fe2683a3\" name=\"files[]\" multiple disabled\n",
              "        style=\"border:none\" />\n",
              "     <output id=\"result-9f66023b-8b16-421c-b381-0433fe2683a3\">\n",
              "      Upload widget is only available when the cell has been executed in the\n",
              "      current browser session. Please rerun this cell to enable.\n",
              "      </output>\n",
              "      <script>// Copyright 2017 Google LLC\n",
              "//\n",
              "// Licensed under the Apache License, Version 2.0 (the \"License\");\n",
              "// you may not use this file except in compliance with the License.\n",
              "// You may obtain a copy of the License at\n",
              "//\n",
              "//      http://www.apache.org/licenses/LICENSE-2.0\n",
              "//\n",
              "// Unless required by applicable law or agreed to in writing, software\n",
              "// distributed under the License is distributed on an \"AS IS\" BASIS,\n",
              "// WITHOUT WARRANTIES OR CONDITIONS OF ANY KIND, either express or implied.\n",
              "// See the License for the specific language governing permissions and\n",
              "// limitations under the License.\n",
              "\n",
              "/**\n",
              " * @fileoverview Helpers for google.colab Python module.\n",
              " */\n",
              "(function(scope) {\n",
              "function span(text, styleAttributes = {}) {\n",
              "  const element = document.createElement('span');\n",
              "  element.textContent = text;\n",
              "  for (const key of Object.keys(styleAttributes)) {\n",
              "    element.style[key] = styleAttributes[key];\n",
              "  }\n",
              "  return element;\n",
              "}\n",
              "\n",
              "// Max number of bytes which will be uploaded at a time.\n",
              "const MAX_PAYLOAD_SIZE = 100 * 1024;\n",
              "\n",
              "function _uploadFiles(inputId, outputId) {\n",
              "  const steps = uploadFilesStep(inputId, outputId);\n",
              "  const outputElement = document.getElementById(outputId);\n",
              "  // Cache steps on the outputElement to make it available for the next call\n",
              "  // to uploadFilesContinue from Python.\n",
              "  outputElement.steps = steps;\n",
              "\n",
              "  return _uploadFilesContinue(outputId);\n",
              "}\n",
              "\n",
              "// This is roughly an async generator (not supported in the browser yet),\n",
              "// where there are multiple asynchronous steps and the Python side is going\n",
              "// to poll for completion of each step.\n",
              "// This uses a Promise to block the python side on completion of each step,\n",
              "// then passes the result of the previous step as the input to the next step.\n",
              "function _uploadFilesContinue(outputId) {\n",
              "  const outputElement = document.getElementById(outputId);\n",
              "  const steps = outputElement.steps;\n",
              "\n",
              "  const next = steps.next(outputElement.lastPromiseValue);\n",
              "  return Promise.resolve(next.value.promise).then((value) => {\n",
              "    // Cache the last promise value to make it available to the next\n",
              "    // step of the generator.\n",
              "    outputElement.lastPromiseValue = value;\n",
              "    return next.value.response;\n",
              "  });\n",
              "}\n",
              "\n",
              "/**\n",
              " * Generator function which is called between each async step of the upload\n",
              " * process.\n",
              " * @param {string} inputId Element ID of the input file picker element.\n",
              " * @param {string} outputId Element ID of the output display.\n",
              " * @return {!Iterable<!Object>} Iterable of next steps.\n",
              " */\n",
              "function* uploadFilesStep(inputId, outputId) {\n",
              "  const inputElement = document.getElementById(inputId);\n",
              "  inputElement.disabled = false;\n",
              "\n",
              "  const outputElement = document.getElementById(outputId);\n",
              "  outputElement.innerHTML = '';\n",
              "\n",
              "  const pickedPromise = new Promise((resolve) => {\n",
              "    inputElement.addEventListener('change', (e) => {\n",
              "      resolve(e.target.files);\n",
              "    });\n",
              "  });\n",
              "\n",
              "  const cancel = document.createElement('button');\n",
              "  inputElement.parentElement.appendChild(cancel);\n",
              "  cancel.textContent = 'Cancel upload';\n",
              "  const cancelPromise = new Promise((resolve) => {\n",
              "    cancel.onclick = () => {\n",
              "      resolve(null);\n",
              "    };\n",
              "  });\n",
              "\n",
              "  // Wait for the user to pick the files.\n",
              "  const files = yield {\n",
              "    promise: Promise.race([pickedPromise, cancelPromise]),\n",
              "    response: {\n",
              "      action: 'starting',\n",
              "    }\n",
              "  };\n",
              "\n",
              "  cancel.remove();\n",
              "\n",
              "  // Disable the input element since further picks are not allowed.\n",
              "  inputElement.disabled = true;\n",
              "\n",
              "  if (!files) {\n",
              "    return {\n",
              "      response: {\n",
              "        action: 'complete',\n",
              "      }\n",
              "    };\n",
              "  }\n",
              "\n",
              "  for (const file of files) {\n",
              "    const li = document.createElement('li');\n",
              "    li.append(span(file.name, {fontWeight: 'bold'}));\n",
              "    li.append(span(\n",
              "        `(${file.type || 'n/a'}) - ${file.size} bytes, ` +\n",
              "        `last modified: ${\n",
              "            file.lastModifiedDate ? file.lastModifiedDate.toLocaleDateString() :\n",
              "                                    'n/a'} - `));\n",
              "    const percent = span('0% done');\n",
              "    li.appendChild(percent);\n",
              "\n",
              "    outputElement.appendChild(li);\n",
              "\n",
              "    const fileDataPromise = new Promise((resolve) => {\n",
              "      const reader = new FileReader();\n",
              "      reader.onload = (e) => {\n",
              "        resolve(e.target.result);\n",
              "      };\n",
              "      reader.readAsArrayBuffer(file);\n",
              "    });\n",
              "    // Wait for the data to be ready.\n",
              "    let fileData = yield {\n",
              "      promise: fileDataPromise,\n",
              "      response: {\n",
              "        action: 'continue',\n",
              "      }\n",
              "    };\n",
              "\n",
              "    // Use a chunked sending to avoid message size limits. See b/62115660.\n",
              "    let position = 0;\n",
              "    do {\n",
              "      const length = Math.min(fileData.byteLength - position, MAX_PAYLOAD_SIZE);\n",
              "      const chunk = new Uint8Array(fileData, position, length);\n",
              "      position += length;\n",
              "\n",
              "      const base64 = btoa(String.fromCharCode.apply(null, chunk));\n",
              "      yield {\n",
              "        response: {\n",
              "          action: 'append',\n",
              "          file: file.name,\n",
              "          data: base64,\n",
              "        },\n",
              "      };\n",
              "\n",
              "      let percentDone = fileData.byteLength === 0 ?\n",
              "          100 :\n",
              "          Math.round((position / fileData.byteLength) * 100);\n",
              "      percent.textContent = `${percentDone}% done`;\n",
              "\n",
              "    } while (position < fileData.byteLength);\n",
              "  }\n",
              "\n",
              "  // All done.\n",
              "  yield {\n",
              "    response: {\n",
              "      action: 'complete',\n",
              "    }\n",
              "  };\n",
              "}\n",
              "\n",
              "scope.google = scope.google || {};\n",
              "scope.google.colab = scope.google.colab || {};\n",
              "scope.google.colab._files = {\n",
              "  _uploadFiles,\n",
              "  _uploadFilesContinue,\n",
              "};\n",
              "})(self);\n",
              "</script> "
            ]
          },
          "metadata": {}
        },
        {
          "output_type": "stream",
          "name": "stdout",
          "text": [
            "Saving kaggle.json to kaggle.json\n"
          ]
        },
        {
          "output_type": "execute_result",
          "data": {
            "text/plain": [
              "{'kaggle.json': b'{\"username\":\"rustin96\",\"key\":\"0f80a220c3c09d55b32c93025d2c2d3b\"}'}"
            ]
          },
          "metadata": {},
          "execution_count": 6
        }
      ]
    },
    {
      "cell_type": "code",
      "source": [
        "! mkdir ~/.kaggle"
      ],
      "metadata": {
        "id": "kKPmWHnnjEkK"
      },
      "execution_count": 7,
      "outputs": []
    },
    {
      "cell_type": "code",
      "source": [
        "! cp kaggle.json ~/.kaggle/"
      ],
      "metadata": {
        "id": "L20RIpYujInd"
      },
      "execution_count": 8,
      "outputs": []
    },
    {
      "cell_type": "code",
      "source": [
        "! chmod 600  ~/.kaggle/kaggle.json"
      ],
      "metadata": {
        "id": "Ia6TVFpejQxD"
      },
      "execution_count": 9,
      "outputs": []
    },
    {
      "cell_type": "code",
      "source": [
        "!kaggle datasets download meowmeowmeowmeowmeow/gtsrb-german-traffic-sign"
      ],
      "metadata": {
        "id": "FlkUa4J4jTu8",
        "outputId": "74e624ff-931e-4719-9ffc-93232d0ed087",
        "colab": {
          "base_uri": "https://localhost:8080/"
        }
      },
      "execution_count": 10,
      "outputs": [
        {
          "output_type": "stream",
          "name": "stdout",
          "text": [
            "Downloading gtsrb-german-traffic-sign.zip to /content\n",
            "100% 611M/612M [00:30<00:00, 19.5MB/s]\n",
            "100% 612M/612M [00:30<00:00, 21.1MB/s]\n"
          ]
        }
      ]
    },
    {
      "cell_type": "code",
      "source": [
        "import zipfile\n",
        "\n",
        "filename = '/content/gtsrb-german-traffic-sign.zip'\n",
        "\n",
        "with zipfile.ZipFile(filename, 'r') as zip_ref:\n",
        "  zip_ref.extractall('.')"
      ],
      "metadata": {
        "id": "QXHQn0rglXrg"
      },
      "execution_count": 11,
      "outputs": []
    },
    {
      "cell_type": "code",
      "execution_count": 19,
      "metadata": {
        "id": "JgXk2l0Nq9j8"
      },
      "outputs": [],
      "source": [
        "import numpy as np\n",
        "import os\n",
        "from PIL import Image\n",
        "import tensorflow as tf\n",
        "import tensorflow_datasets as tfds\n",
        "import pandas as pd\n",
        "from sklearn.model_selection import train_test_split"
      ]
    },
    {
      "cell_type": "code",
      "source": [
        "batch_size = 32\n",
        "img_height = 32\n",
        "img_width = 32"
      ],
      "metadata": {
        "id": "HiNvNh9eJVWq"
      },
      "execution_count": 13,
      "outputs": []
    },
    {
      "cell_type": "code",
      "source": [
        "data = []\n",
        "labels = []\n",
        "classes = 43\n",
        "\n",
        "for i in range(classes):\n",
        "    path = os.path.join('/content/Train',str(i))\n",
        "    images = os.listdir(path)\n",
        "\n",
        "    for image in images:\n",
        "      image = Image.open(os.path.join(path, image))\n",
        "      image = image.resize((img_height,img_width))\n",
        "      image = np.array(image)\n",
        "      data.append(image)\n",
        "      labels.append(i)\n",
        "\n",
        "data = np.array(data)\n",
        "labels = np.array(labels)"
      ],
      "metadata": {
        "id": "aG8sOsXNJduV"
      },
      "execution_count": 17,
      "outputs": []
    },
    {
      "cell_type": "code",
      "source": [
        "X_train, X_val, y_train, y_val = train_test_split(data, labels, test_size=0.2, random_state=42)"
      ],
      "metadata": {
        "id": "a64qsuBm30tx"
      },
      "execution_count": 20,
      "outputs": []
    },
    {
      "cell_type": "code",
      "source": [
        "import matplotlib.pyplot as plt\n",
        "\n",
        "plt.figure(figsize=(10, 10))\n",
        "for i in range(9):\n",
        "  ax = plt.subplot(3, 3, i + 1)\n",
        "  plt.imshow(X_train[i])\n",
        "  plt.title(y_train[i])\n",
        "  plt.axis(\"off\")"
      ],
      "metadata": {
        "colab": {
          "base_uri": "https://localhost:8080/",
          "height": 829
        },
        "id": "e9qh9y9vX98Z",
        "outputId": "b0c83865-1490-4d49-dcb3-a0ec821039e2"
      },
      "execution_count": 22,
      "outputs": [
        {
          "output_type": "display_data",
          "data": {
            "text/plain": [
              "<Figure size 1000x1000 with 9 Axes>"
            ],
            "image/png": "[encoded data removed]"
          },
          "metadata": {}
        }
      ]
    },
    {
      "cell_type": "code",
      "source": [
        "resize_and_rescale = tf.keras.Sequential([\n",
        "    tf.keras.layers.Resizing(img_height, img_width),\n",
        "    tf.keras.layers.Rescaling(1./255)\n",
        "])"
      ],
      "metadata": {
        "id": "s3pbQL701WlF"
      },
      "execution_count": 23,
      "outputs": []
    },
    {
      "cell_type": "code",
      "source": [
        "num_classes = 43\n",
        "\n",
        "model = tf.keras.Sequential([\n",
        "    resize_and_rescale,\n",
        "\n",
        "    tf.keras.layers.Conv2D(filters=32, kernel_size=(3,3), activation='relu', padding='same', input_shape=(img_height, img_width, 3)),\n",
        "    tf.keras.layers.Conv2D(filters=64, kernel_size=(3,3), activation='relu', padding='same'),\n",
        "    tf.keras.layers.MaxPool2D(pool_size=(2, 2)),\n",
        "    \n",
        "    tf.keras.layers.Conv2D(filters=128, kernel_size=(3,3), activation='relu', padding='same'),\n",
        "    tf.keras.layers.Conv2D(filters=256, kernel_size=(3,3), activation='relu', padding='same'),\n",
        "    tf.keras.layers.MaxPool2D(pool_size=(2, 2)),\n",
        "\n",
        "    tf.keras.layers.Flatten(),\n",
        "    tf.keras.layers.Dense(512, activation='relu'),\n",
        "    tf.keras.layers.Dropout(rate=0.5),\n",
        "\n",
        "    tf.keras.layers.Dense(256, activation='relu'),\n",
        "    tf.keras.layers.Dropout(rate=0.5),\n",
        "    \n",
        "    tf.keras.layers.Dense(num_classes, activation='softmax')\n",
        "])\n"
      ],
      "metadata": {
        "id": "NyYQZq35Y3Q7"
      },
      "execution_count": 24,
      "outputs": []
    },
    {
      "cell_type": "code",
      "source": [
        "model.compile(\n",
        "  optimizer='adam',\n",
        "  loss='sparse_categorical_crossentropy',\n",
        "  metrics=['accuracy'])"
      ],
      "metadata": {
        "id": "nYuJN0s6Z_6I"
      },
      "execution_count": 25,
      "outputs": []
    },
    {
      "cell_type": "code",
      "source": [
        "model.fit(\n",
        "  X_train, y_train,\n",
        "  validation_data=(X_val, y_val),\n",
        "  epochs=10\n",
        ")"
      ],
      "metadata": {
        "colab": {
          "base_uri": "https://localhost:8080/"
        },
        "id": "v02ahE2JcC77",
        "outputId": "776a620a-4dbe-4ab1-ee93-0a544426f590"
      },
      "execution_count": 26,
      "outputs": [
        {
          "output_type": "stream",
          "name": "stdout",
          "text": [
            "Epoch 1/10\n",
            "981/981 [==============================] - 20s 10ms/step - loss: 1.9721 - accuracy: 0.4234 - val_loss: 0.3627 - val_accuracy: 0.8979\n",
            "Epoch 2/10\n",
            "981/981 [==============================] - 9s 10ms/step - loss: 0.3254 - accuracy: 0.8995 - val_loss: 0.0534 - val_accuracy: 0.9866\n",
            "Epoch 3/10\n",
            "981/981 [==============================] - 9s 9ms/step - loss: 0.1328 - accuracy: 0.9617 - val_loss: 0.0353 - val_accuracy: 0.9911\n",
            "Epoch 4/10\n",
            "981/981 [==============================] - 10s 10ms/step - loss: 0.0813 - accuracy: 0.9762 - val_loss: 0.0287 - val_accuracy: 0.9921\n",
            "Epoch 5/10\n",
            "981/981 [==============================] - 12s 13ms/step - loss: 0.0650 - accuracy: 0.9822 - val_loss: 0.0150 - val_accuracy: 0.9954\n",
            "Epoch 6/10\n",
            "981/981 [==============================] - 10s 10ms/step - loss: 0.0574 - accuracy: 0.9840 - val_loss: 0.0161 - val_accuracy: 0.9967\n",
            "Epoch 7/10\n",
            "981/981 [==============================] - 13s 14ms/step - loss: 0.0456 - accuracy: 0.9883 - val_loss: 0.0186 - val_accuracy: 0.9958\n",
            "Epoch 8/10\n",
            "981/981 [==============================] - 10s 10ms/step - loss: 0.0421 - accuracy: 0.9883 - val_loss: 0.0134 - val_accuracy: 0.9971\n",
            "Epoch 9/10\n",
            "981/981 [==============================] - 12s 12ms/step - loss: 0.0396 - accuracy: 0.9894 - val_loss: 0.0226 - val_accuracy: 0.9959\n",
            "Epoch 10/10\n",
            "981/981 [==============================] - 11s 11ms/step - loss: 0.0347 - accuracy: 0.9909 - val_loss: 0.0214 - val_accuracy: 0.9952\n"
          ]
        },
        {
          "output_type": "execute_result",
          "data": {
            "text/plain": [
              "<keras.callbacks.History at 0x7faf40085730>"
            ]
          },
          "metadata": {},
          "execution_count": 26
        }
      ]
    },
    {
      "cell_type": "code",
      "source": [
        "y_test = pd.read_csv('/content/Test.csv')\n",
        "\n",
        "labels = y_test[\"ClassId\"].values\n",
        "imgs = y_test[\"Path\"].values\n",
        "\n",
        "data=[]\n",
        "\n",
        "with tf.device('/GPU:0'):\n",
        "    for img in imgs:\n",
        "        image = Image.open('/content/'+img)\n",
        "        image = image.resize([img_height, img_width])\n",
        "        data.append(np.array(image))\n",
        "\n",
        "X_test=np.array(data)"
      ],
      "metadata": {
        "id": "MlzDR0OI8JgE"
      },
      "execution_count": 27,
      "outputs": []
    },
    {
      "cell_type": "code",
      "source": [
        "model.evaluate(X_test, labels)"
      ],
      "metadata": {
        "id": "0tHdrEQH7vOv",
        "outputId": "4ff2f21a-08b1-4c55-9d6a-6819bd0d7d31",
        "colab": {
          "base_uri": "https://localhost:8080/"
        }
      },
      "execution_count": 28,
      "outputs": [
        {
          "output_type": "stream",
          "name": "stdout",
          "text": [
            "395/395 [==============================] - 2s 4ms/step - loss: 0.1195 - accuracy: 0.9771\n"
          ]
        },
        {
          "output_type": "execute_result",
          "data": {
            "text/plain": [
              "[0.11954925954341888, 0.9771179556846619]"
            ]
          },
          "metadata": {},
          "execution_count": 28
        }
      ]
    }
  ]
}